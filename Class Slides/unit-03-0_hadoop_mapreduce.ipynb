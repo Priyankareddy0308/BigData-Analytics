{
 "cells": [
  {
   "cell_type": "markdown",
   "metadata": {},
   "source": [
    "<center> <h1>Unit 3</h1> </center>\n",
    "<center> <h1>MapReduce, Hadoop (v1 and Yarn)</h1> </center>\n",
    "<br>\n",
    "<br>\n",
    "<br>\n",
    "<center> <h3>IST 718 – Big Data Analytics</h3> </center>\n",
    "<center> <h3>Daniel E. Acuna</h3> </center>\n",
    "<center> <h3>http://acuna.io</h3> </center>\n",
    "\n"
   ]
  },
  {
   "cell_type": "markdown",
   "metadata": {
    "slideshow": {
     "slide_type": "slide"
    }
   },
   "source": [
    "# Course roadmap\n",
    "<left><img src=\"./images/unit-03/unit-03-0_hmr1.png\" width=\"90%\" align=\"left\"></left>\n",
    "<br>\n",
    "<div class=\"container2\">\n",
    "  <div class=\"row2\">\n",
    "    <div class=\"col-6\">\n",
    "        <ul>\n",
    "  <li>Small/medium data</li>\n",
    "  <li>Low model complexity</li>\n",
    "  <li>High interpretability</li>\n",
    "  <li>Low computational power</li>    \n",
    "</ul>\n",
    "      </div>    \n",
    "    <div class=\"col-6  right2\">\n",
    "        <ul>\n",
    "  <li>Big data</li>\n",
    "  <li>High model complexity</li>\n",
    "  <li>Low interpretability</li>\n",
    "  <li>High computational power</li>  \n",
    "        </ul>\n",
    "      </div>\n",
    "  </div>\n",
    "</div>"
   ]
  },
  {
   "cell_type": "markdown",
   "metadata": {
    "slideshow": {
     "slide_type": "slide"
    }
   },
   "source": [
    "# Objectives of this unit\n",
    "- Introduction to distributed systems\n",
    "- The CAP theorem (**storage limitation**)\n",
    "- Distributed systems may fail more (**compute limitation**)\n",
    "- Hadoop and Yarn\n",
    "- MapReduce"
   ]
  },
  {
   "cell_type": "markdown",
   "metadata": {
    "slideshow": {
     "slide_type": "slide"
    }
   },
   "source": [
    "# Distributed systems\n",
    "- A distributed system is a collection of independent computers that appear to the users as a single coherent system\n",
    "- Advantages (compare to single system):\n",
    "  - It could be cheaper: building a supercomputer is expensive\n",
    "  - Faster processing: parallel processing\n",
    "  - Reliability: if one node fails, then we can process in a different node\n",
    "  - Incremental growth: add more computers as needed\n",
    "- Disadvantage:\n",
    "  - Software must be customized\n",
    "  - Network: often this is the bottleneck\n",
    "  - More components to fail\n",
    "  - Complex security"
   ]
  },
  {
   "cell_type": "markdown",
   "metadata": {
    "slideshow": {
     "slide_type": "slide"
    }
   },
   "source": [
    "# Scaling Services: How do you address growth?\n",
    "**Vertical \"Scale Up\"**\n",
    "- Add more resources to an existing system running the service.\n",
    "- Easier, but limited scale\n",
    "- Single point of failure\n",
    "<right><img src=\"./images/unit-03/unit-03-0_hmr2.png\" width=\"25%\" align=\"right\"></right>"
   ]
  },
  {
   "cell_type": "markdown",
   "metadata": {
    "slideshow": {
     "slide_type": "fragment"
    }
   },
   "source": [
    "**Horizontal \"Scale Out\"**\n",
    "- Run the service over multiple systems, and orchestrate communication between them\n",
    "- Harder, but massive scale\n",
    "- Overhead to manage nodes\n",
    "<right><img src=\"./images/unit-03/unit-03-0_hmr3.png\" width=\"30%\" align=\"right\"></right>"
   ]
  },
  {
   "cell_type": "markdown",
   "metadata": {
    "slideshow": {
     "slide_type": "slide"
    }
   },
   "source": [
    "# CAP Theorem of Distributed Systems (1)\n",
    "- From a **storage perspective**, there are many goals for a distributed system.\n",
    "- Almost all goals of distributed systems can be fit into one of these categories\n",
    "  - **Data Consistency**: all nodes see the same data at the same time.\n",
    "  - **Data Availability**: assurances that every request can be processed.\n",
    "  - **Partition Tolerance**: network failures are tolerated, the system continues to operate"
   ]
  },
  {
   "cell_type": "markdown",
   "metadata": {
    "slideshow": {
     "slide_type": "slide"
    }
   },
   "source": [
    "# CAP Theorem of Distributed Systems (2)\n",
    "However, there is a fundamental constraint: only two of the goals can be fulfilled at the same time\n",
    "- **Data Consistency**: all nodes see the same data at the same time\n",
    "- **Data Availability**: assurances that every request can be processed\n",
    "- **Partition Tolerance**: network failures are tolerated, the system continues to operate"
   ]
  },
  {
   "cell_type": "markdown",
   "metadata": {
    "slideshow": {
     "slide_type": "fragment"
    }
   },
   "source": [
    "<center><img src=\"./images/unit-03/unit-03-0_hmr4.png\" width=\"30%\" align=\"center\"></center>"
   ]
  },
  {
   "cell_type": "markdown",
   "metadata": {
    "slideshow": {
     "slide_type": "slide"
    }
   },
   "source": [
    "# CAP Theorem of Distributed Systems (6)\n",
    "<br>\n",
    "<center><img src=\"./images/unit-03/unit-03-0_hmr8.png\" width=\"50%\" align=\"center\"></center>"
   ]
  },
  {
   "cell_type": "markdown",
   "metadata": {
    "slideshow": {
     "slide_type": "slide"
    }
   },
   "source": [
    "# Distributed systems\n",
    "### How does \"More components to fail\" affect us?"
   ]
  },
  {
   "cell_type": "markdown",
   "metadata": {
    "slideshow": {
     "slide_type": "slide"
    }
   },
   "source": [
    "# A tradeoff (1)\n",
    "- We want to process massive amounts of data in parallel\n",
    "- However, we make ourselves more vulnerable to failures\n",
    "<br>\n",
    "<center><img src=\"./images/unit-03/unit-03-0_hmr10.png\" width=\"80%\" align=\"center\"></center>"
   ]
  },
  {
   "cell_type": "markdown",
   "metadata": {
    "slideshow": {
     "slide_type": "slide"
    }
   },
   "source": [
    "# A tradeoff (2)\n",
    "- We want to process massive amounts of data in parallel\n",
    "- However, we make ourselves more vulnerable to failures\n",
    "<br>\n",
    "<center><img src=\"./images/unit-03/unit-03-0_hmr11.png\" width=\"80%\" align=\"center\"></center>"
   ]
  },
  {
   "cell_type": "markdown",
   "metadata": {
    "slideshow": {
     "slide_type": "slide"
    }
   },
   "source": [
    "# A tradeoff (3)\n",
    "- We want to process massive amounts of data in parallel\n",
    "- However, we make ourselves more vulnerable to failures\n",
    "<br>\n",
    "<center><img src=\"./images/unit-03/unit-03-0_hmr12.png\" width=\"80%\" align=\"center\"></center>"
   ]
  },
  {
   "cell_type": "markdown",
   "metadata": {
    "slideshow": {
     "slide_type": "slide"
    }
   },
   "source": [
    "# A tradeoff (4)\n",
    "- We want to process massive amounts of data in parallel\n",
    "- However, we make ourselves more vulnerable to failures\n",
    "<br>\n",
    "<center><img src=\"./images/unit-03/unit-03-0_hmr13.png\" width=\"80%\" align=\"center\"></center>"
   ]
  },
  {
   "cell_type": "markdown",
   "metadata": {
    "slideshow": {
     "slide_type": "slide"
    }
   },
   "source": [
    "# A more realistic example: long tails (1)\n",
    "- We want to process massive amounts of data in parallel\n",
    "- Normal responses take 10 ms, but with probability 1%, a worker takes 1 s\n",
    "<br>\n",
    "<center><img src=\"./images/unit-03/unit-03-0_hmr14.png\" width=\"80%\" align=\"center\"></center>"
   ]
  },
  {
   "cell_type": "markdown",
   "metadata": {
    "slideshow": {
     "slide_type": "slide"
    }
   },
   "source": [
    "# A more realistic example: long tails (2)\n",
    "- We want to process massive amounts of data in parallel\n",
    "- Normal responses take 10 ms, but with probability 1%, a worker takes 1 s\n",
    "<br>\n",
    "<center><img src=\"./images/unit-03/unit-03-0_hmr15.png\" width=\"80%\" align=\"center\"></center>"
   ]
  },
  {
   "cell_type": "markdown",
   "metadata": {
    "slideshow": {
     "slide_type": "slide"
    }
   },
   "source": [
    "# A more realistic example: long tails (3)\n",
    "- We want to process massive amounts of data in parallel\n",
    "- Normal responses take 10 ms, but with probability 1%, a worker takes 1 s\n",
    "<br>\n",
    "<center><img src=\"./images/unit-03/unit-03-0_hmr16.png\" width=\"80%\" align=\"center\"></center>"
   ]
  },
  {
   "cell_type": "markdown",
   "metadata": {
    "slideshow": {
     "slide_type": "slide"
    }
   },
   "source": [
    "# A more realistic example: long tails (4)\n",
    "- We want to process massive amounts of data in parallel\n",
    "- Normal responses take 10 ms, but with probability 1%, a worker takes 1 s\n",
    "<br>\n",
    "<center><img src=\"./images/unit-03/unit-03-0_hmr17.png\" width=\"80%\" align=\"center\"></center>"
   ]
  },
  {
   "cell_type": "markdown",
   "metadata": {
    "slideshow": {
     "slide_type": "slide"
    }
   },
   "source": [
    "# What is Hadoop?"
   ]
  },
  {
   "cell_type": "markdown",
   "metadata": {
    "slideshow": {
     "slide_type": "slide"
    }
   },
   "source": [
    "# Hadoop\n",
    "\n",
    "- Distribute the data in a consistent manner  \n",
    "HDFS\n",
    "- Move processing to the data and recover from compute failures  \n",
    "MapReduce / YARN\n",
    "<center><img src=\"./images/unit-03/unit-03-0_hmr18.png\" width=\"50%\" align=\"center\"></center>"
   ]
  },
  {
   "cell_type": "markdown",
   "metadata": {
    "slideshow": {
     "slide_type": "slide"
    }
   },
   "source": [
    "# Birthplace of Hadoop\n",
    "- Google, Facebook, Yahoo!\n",
    "- These companies had so much data, that **enterprise DBMSs** could not meet their reporting requirements\n",
    "\n",
    "<center><img src=\"./images/unit-03/unit-03-0_hmr19.png\" width=\"50%\" align=\"center\"></center>"
   ]
  },
  {
   "cell_type": "markdown",
   "metadata": {
    "slideshow": {
     "slide_type": "slide"
    }
   },
   "source": [
    "# Hadoop Handles Big Data By Scaling Out\n",
    "- Problem: File Too Large to fit on a single storage platform?\n",
    "- Solution: Distribute the file over several computers\n",
    "\n",
    "\n",
    "- Problem: Server not “fast” enough to process your data\n",
    "- Solution: Distribute data processing over several computers\n",
    "\n",
    "<br>\n",
    "<center><img src=\"./images/unit-03/unit-03-0_hmr20.png\" width=\"30%\" align=\"center\"></center>"
   ]
  },
  {
   "cell_type": "markdown",
   "metadata": {
    "slideshow": {
     "slide_type": "slide"
    }
   },
   "source": [
    "# Hadoop is Designed to Use Commodity Hardware\n",
    "- Hadoop Hardware\n",
    "  - Modular\n",
    "  - Easy to add and remove nodes.\n",
    "  - Failure is not only acceptable, but expected.\n",
    "- This is contrary to enterprise hardware\n",
    "  - High-redundancy / Fault-tolerant\n",
    "  - Vertical Scaling\n",
    "  -   Storage arrays\n",
    "<center><img src=\"./images/unit-03/unit-03-0_hmr21.png\" width=\"60%\" align=\"center\"></center>"
   ]
  },
  {
   "cell_type": "markdown",
   "metadata": {
    "slideshow": {
     "slide_type": "slide"
    }
   },
   "source": [
    "# How Does Hadoop Store, Process and Manage Big Data?"
   ]
  },
  {
   "cell_type": "markdown",
   "metadata": {
    "slideshow": {
     "slide_type": "slide"
    }
   },
   "source": [
    "# Hadoop Clusters\n",
    "<right><img src=\"./images/unit-03/unit-03-0_hmr22.png\" width=\"70%\" align=\"right\"></right>\n",
    "Node Types:\n",
    "1. Master Nodes\n",
    "2. Worker Nodes\n",
    "3. Client Nodes\n"
   ]
  },
  {
   "cell_type": "markdown",
   "metadata": {
    "slideshow": {
     "slide_type": "slide"
    }
   },
   "source": [
    "# The Hadoop Ecosystem: Open Source Tools\n",
    "<br>\n",
    "<center><img src=\"./images/unit-03/unit-03-0_hmr23.png\" width=\"80%\" align=\"center\"></center>"
   ]
  },
  {
   "cell_type": "markdown",
   "metadata": {
    "slideshow": {
     "slide_type": "slide"
    }
   },
   "source": [
    "# YARN: The Data Operating System\n",
    "- Hadoop 2.0 Introduces YARN (Yet Another Resource Negotiator)\n",
    "- Orchestrates processing over the nodes\n",
    "- Uses HDFS for storage \n",
    "- Runs a variety of Applications\n",
    "<center><img src=\"./images/unit-03/unit-03-0_hmr24.png\" width=\"70%\" align=\"center\"></center>"
   ]
  },
  {
   "cell_type": "markdown",
   "metadata": {
    "slideshow": {
     "slide_type": "slide"
    }
   },
   "source": [
    "# An Over-Simplified Version of the Hadoop Ecosystem in Action\n",
    "<br>\n",
    "<center><img src=\"./images/unit-03/unit-03-0_hmr25.png\" width=\"80%\" align=\"center\"></center>"
   ]
  },
  {
   "cell_type": "markdown",
   "metadata": {
    "slideshow": {
     "slide_type": "slide"
    }
   },
   "source": [
    "# HDFS: Hadoop Distributed File System\n",
    "- Based on Google’s GFS\n",
    "- Data Distributed over Physical Nodes\n",
    "- Designed for Failover\n",
    "- Data Stored “as is”\n",
    "- Data Split into Blocks\n",
    "- Default Replication factor is 3 "
   ]
  },
  {
   "cell_type": "markdown",
   "metadata": {
    "slideshow": {
     "slide_type": "slide"
    }
   },
   "source": [
    "# HDFS At Work\n",
    "<br>\n",
    "<center><img src=\"./images/unit-03/unit-03-0_hmr26.png\" width=\"70%\" align=\"center\"></center>"
   ]
  },
  {
   "cell_type": "markdown",
   "metadata": {
    "slideshow": {
     "slide_type": "slide"
    }
   },
   "source": [
    "# MapReduce"
   ]
  },
  {
   "cell_type": "markdown",
   "metadata": {
    "slideshow": {
     "slide_type": "slide"
    }
   },
   "source": [
    "# The problem\n",
    "- We want to use our distributed system to process arbitrarily large amounts of data\n",
    "- We can develop custom scripts for communicating among computers and solving a problem\n",
    "- The problem is that this script can be different for each task\n",
    "- > \"MapReduce is a programming model and an associated implementation for processing and generating large data sets\" \n",
    "\n",
    "  J. Dean, S. Ghemawat, *\"MapReduce: Simplified Data Processing on Large Clusters\"*, OSDI 2004\n"
   ]
  },
  {
   "cell_type": "markdown",
   "metadata": {
    "slideshow": {
     "slide_type": "slide"
    }
   },
   "source": [
    "# The solution\n",
    "- Create a simple programming model where there is **no communication** between tasks, enhancing fault tolerance and lowering complexity\n",
    "- An example application:\n",
    "  - Very large and distributed dataset of orders per month and state\n",
    "  - We want to compute total number of orders per month\n",
    "  - Any thoughts?\n",
    "\n",
    "<br>\n",
    "<center><img src=\"./images/unit-03/unit-03-0_hmr29.png\" width=\"60%\" align=\"center\"></center>"
   ]
  },
  {
   "cell_type": "markdown",
   "metadata": {
    "slideshow": {
     "slide_type": "slide"
    }
   },
   "source": [
    "# MapReduce (programming model)\n",
    "- Computation takes a set of input key/value pairs and produces a set of output key/value pairs\n",
    "- The user implements two functions: Map and Reduce\n",
    "- **Map**: takes an input element and produces a set of intermediate key/value pairs\n",
    "- **Reduce**: accepts an intermediate key and a pair of values for the same key and combines them into zero or one value.\n",
    "- The program stops when no more key-value pairs can be reduced\n",
    "\n",
    "<br>\n",
    "<center><img src=\"./images/unit-03/unit-03-0_hmr30.png\" width=\"30%\" align=\"center\"></center>"
   ]
  },
  {
   "cell_type": "markdown",
   "metadata": {
    "slideshow": {
     "slide_type": "slide"
    }
   },
   "source": [
    "# MapReduce: example\n",
    "- **Map**: takes an **<span style=\"color:#BF9000\">input element</span>**  and produces a set of ***<span style=\"color:#0070C0\">intermediate</span>*** **<span style=\"color:#00B050\">key/value</span>** ***<span style=\"color:#0070C0\">pairs</span>***\n",
    "\n",
    "<br>\n",
    "<left><img src=\"./images/unit-03/unit-03-0_hmr31.png\" width=\"30%\" align=\"left\"></left>"
   ]
  },
  {
   "cell_type": "markdown",
   "metadata": {
    "slideshow": {
     "slide_type": "slide"
    }
   },
   "source": [
    "# MapReduce: example\n",
    "- **Map**: takes an **<span style=\"color:#BF9000\">input element</span>**  and produces a set of ***<span style=\"color:#0070C0\">intermediate</span>*** **<span style=\"color:#00B050\">key/value</span>** ***<span style=\"color:#0070C0\">pairs</span>***\n",
    "\n",
    "<br>\n",
    "<left><img src=\"./images/unit-03/unit-03-0_hmr32.png\" width=\"50%\" align=\"left\"></left>"
   ]
  },
  {
   "cell_type": "markdown",
   "metadata": {
    "slideshow": {
     "slide_type": "slide"
    }
   },
   "source": [
    "# MapReduce: example\n",
    "- **Map**: takes an **<span style=\"color:#BF9000\">input element</span>**  and produces a set of ***<span style=\"color:#0070C0\">intermediate</span>*** **<span style=\"color:#00B050\">key/value</span>** ***<span style=\"color:#0070C0\">pairs</span>***\n",
    "\n",
    "<br>\n",
    "<left><img src=\"./images/unit-03/unit-03-0_hmr33.png\" width=\"70%\" align=\"left\"></left>"
   ]
  },
  {
   "cell_type": "markdown",
   "metadata": {
    "slideshow": {
     "slide_type": "slide"
    }
   },
   "source": [
    "# MapReduce: example\n",
    "- **Map**: takes an **<span style=\"color:#BF9000\">input element</span>**  and produces a set of ***<span style=\"color:#0070C0\">intermediate</span>*** **<span style=\"color:#00B050\">key/value</span>** ***<span style=\"color:#0070C0\">pairs</span>***\n",
    "\n",
    "<br>\n",
    "<left><img src=\"./images/unit-03/unit-03-0_hmr34.png\" width=\"70%\" align=\"left\"></left>"
   ]
  },
  {
   "cell_type": "markdown",
   "metadata": {
    "slideshow": {
     "slide_type": "slide"
    }
   },
   "source": [
    "# MapReduce: example\n",
    "- **Map**: takes an **<span style=\"color:#BF9000\">input element</span>**  and produces a set of ***<span style=\"color:#0070C0\">intermediate</span>*** **<span style=\"color:#00B050\">key/value</span>** ***<span style=\"color:#0070C0\">pairs</span>***\n",
    "\n",
    "<br>\n",
    "<left><img src=\"./images/unit-03/unit-03-0_hmr35.png\" width=\"70%\" align=\"left\"></left>"
   ]
  },
  {
   "cell_type": "markdown",
   "metadata": {
    "slideshow": {
     "slide_type": "slide"
    }
   },
   "source": [
    "# MapReduce: example\n",
    "- **Map**: takes an **<span style=\"color:#BF9000\">input element</span>**  and produces a set of ***<span style=\"color:#0070C0\">intermediate</span>*** **<span style=\"color:#00B050\">key/value</span>** ***<span style=\"color:#0070C0\">pairs</span>***\n",
    "\n",
    "<br>\n",
    "<left><img src=\"./images/unit-03/unit-03-0_hmr36_2.png\" width=\"70%\" align=\"left\"></left>"
   ]
  },
  {
   "cell_type": "markdown",
   "metadata": {
    "slideshow": {
     "slide_type": "slide"
    }
   },
   "source": [
    "# MapReduce: example\n",
    "- **Map**: takes an **<span style=\"color:#BF9000\">input element</span>**  and produces a set of ***<span style=\"color:#0070C0\">intermediate</span>*** **<span style=\"color:#00B050\">key/value</span>** ***<span style=\"color:#0070C0\">pairs</span>***\n",
    "\n",
    "<br>\n",
    "<left><img src=\"./images/unit-03/unit-03-0_hmr37_2.png\" width=\"70%\" align=\"left\"></left>  \n",
    "<br>\n",
    "<br>\n",
    "$\\quad$Identify  \n",
    "$\\qquad$1. input  \n",
    "$\\qquad$2. input element  \n",
    "$\\qquad$3. map function  \n",
    "$\\quad\\qquad$3.1 rule for key  \n",
    "$\\quad\\qquad$3.2 rule for value  \n",
    "$\\qquad$4. intermediate key      "
   ]
  },
  {
   "cell_type": "markdown",
   "metadata": {
    "slideshow": {
     "slide_type": "slide"
    }
   },
   "source": [
    "# MapReduce: example\n",
    "\n",
    "- **Reduce**: accepts an intermediate key and a pair of values for the same key and combines them into zero or one value.\n",
    "<br>\n",
    "<left><img src=\"./images/unit-03/unit-03-0_hmr38_2.png\" width=\"40%\" align=\"left\"></left>  "
   ]
  },
  {
   "cell_type": "markdown",
   "metadata": {
    "slideshow": {
     "slide_type": "slide"
    }
   },
   "source": [
    "# MapReduce: example\n",
    "- **Reduce**: accepts an intermediate key and a pair of values for the same key and combines them into zero or one value.\n",
    "<br>\n",
    "<left><img src=\"./images/unit-03/unit-03-0_hmr39_2.png\" width=\"70%\" align=\"left\"></left>  "
   ]
  },
  {
   "cell_type": "markdown",
   "metadata": {
    "slideshow": {
     "slide_type": "slide"
    }
   },
   "source": [
    "# MapReduce: example\n",
    "- **Reduce**: accepts an intermediate key and a pair of values for the same key and combines them into zero or one value.\n",
    "<br>\n",
    "<left><img src=\"./images/unit-03/unit-03-0_hmr40_2.png\" width=\"90%\" align=\"left\"></left>  "
   ]
  },
  {
   "cell_type": "markdown",
   "metadata": {
    "slideshow": {
     "slide_type": "slide"
    }
   },
   "source": [
    "# MapReduce: example\n",
    "- **Reduce**: accepts an intermediate key and a pair of values for the same key and combines them into zero or one value.\n",
    "<br>\n",
    "<left><img src=\"./images/unit-03/unit-03-0_hmr41_2.png\" width=\"90%\" align=\"left\"></left>  "
   ]
  },
  {
   "cell_type": "markdown",
   "metadata": {
    "slideshow": {
     "slide_type": "slide"
    }
   },
   "source": [
    "# MapReduce: example\n",
    "- **Reduce**: accepts an intermediate key and a pair of values for the same key and combines them into zero or one value.\n",
    "<br>\n",
    "<left><img src=\"./images/unit-03/unit-03-0_hmr42_2.png\" width=\"100%\" align=\"left\"></left>  "
   ]
  },
  {
   "cell_type": "markdown",
   "metadata": {
    "slideshow": {
     "slide_type": "slide"
    }
   },
   "source": [
    "# MapReduce: example\n",
    "- **(Repeat) Reduce**: accepts an intermediate key and a pair of values for the same key and combines them into zero or one value.\n",
    "<br>\n",
    "<left><img src=\"./images/unit-03/unit-03-0_hmr43_2.png\" width=\"90%\" align=\"left\"></left>  "
   ]
  },
  {
   "cell_type": "markdown",
   "metadata": {
    "slideshow": {
     "slide_type": "slide"
    }
   },
   "source": [
    "# MapReduce: example\n",
    "- **(Repeat) Reduce**: accepts an intermediate key and a pair of values for the same key and combines them into zero or one value.\n",
    "<br>\n",
    "<left><img src=\"./images/unit-03/unit-03-0_hmr44_2.png\" width=\"90%\" align=\"left\"></left>  "
   ]
  },
  {
   "cell_type": "markdown",
   "metadata": {
    "slideshow": {
     "slide_type": "slide"
    }
   },
   "source": [
    "# MapReduce: example\n",
    "- **(Repeat) Reduce**: accepts an intermediate key and a pair of values for the same key and combines them into zero or one value.\n",
    "<br>\n",
    "<left><img src=\"./images/unit-03/unit-03-0_hmr45_2.png\" width=\"90%\" align=\"left\"></left>  "
   ]
  },
  {
   "cell_type": "markdown",
   "metadata": {
    "slideshow": {
     "slide_type": "slide"
    }
   },
   "source": [
    "# MapReduce: example\n",
    "- **(Repeat) Reduce**: accepts an intermediate key and a pair of values for the same key and combines them into zero or one value.\n",
    "<br>\n",
    "<left><img src=\"./images/unit-03/unit-03-0_hmr46_2.png\" width=\"90%\" align=\"left\"></left>  \n",
    "$\\quad$Identify  \n",
    "$\\qquad$1. intermediate key  \n",
    "$\\qquad$2. pair of values  \n",
    "$\\qquad$3. reduce function  \n",
    "$\\qquad$4. output value   "
   ]
  },
  {
   "cell_type": "markdown",
   "metadata": {
    "slideshow": {
     "slide_type": "slide"
    }
   },
   "source": [
    "# MapReduce: example\n",
    "- **(Repeat) Reduce**: accepts an intermediate key and a pair of values for the same key and combines them into zero or one value.\n",
    "<br>\n",
    "<left><img src=\"./images/unit-03/unit-03-0_hmr48_2.png\" width=\"90%\" align=\"left\"></left>  "
   ]
  },
  {
   "cell_type": "markdown",
   "metadata": {
    "slideshow": {
     "slide_type": "slide"
    }
   },
   "source": [
    "# MapReduce: example\n",
    "- **Map**: takes an input element and produces a set of intermediate key/value pairs\n",
    "- **Reduce**: accepts an intermediate key and a **pair of values** for the same key and combines them into zero or one value.\n",
    "\n",
    "<br>\n",
    "<left><img src=\"./images/unit-03/unit-03-0_hmr49_2.png\" width=\"90%\" align=\"left\"></left>  "
   ]
  },
  {
   "cell_type": "markdown",
   "metadata": {
    "slideshow": {
     "slide_type": "slide"
    }
   },
   "source": [
    "# MapReduce: example\n",
    "- In MapReduce jobs the map and reduce order of application does not matter\n",
    "<br>\n",
    "<left><img src=\"./images/unit-03/unit-03-0_hmr50.png\" width=\"90%\" align=\"left\"></left>  "
   ]
  },
  {
   "cell_type": "markdown",
   "metadata": {
    "slideshow": {
     "slide_type": "slide"
    }
   },
   "source": [
    "# MapReduce: example\n",
    "- **Map**: takes an input element and produces a set of intermediate key/value pairs\n",
    "- **Reduce**: accepts an intermediate key and a **pair of values** for the same key and combines them into zero or one value.\n",
    "<br>\n",
    "<left><img src=\"./images/unit-03/unit-03-0_hmr51.png\" width=\"90%\" align=\"left\"></left>  "
   ]
  },
  {
   "cell_type": "markdown",
   "metadata": {
    "slideshow": {
     "slide_type": "slide"
    }
   },
   "source": [
    "# MapReduce: example\n",
    "- **Map**: takes an input element and produces a set of intermediate key/value pairs\n",
    "- **Reduce**: accepts an intermediate key and a **pair of values** for the same key and combines them into zero or one value.\n",
    "<br>\n",
    "<left><img src=\"./images/unit-03/unit-03-0_hmr52.png\" width=\"90%\" align=\"left\"></left>  "
   ]
  },
  {
   "cell_type": "markdown",
   "metadata": {
    "slideshow": {
     "slide_type": "slide"
    }
   },
   "source": [
    "# MapReduce: example\n",
    "- Inputs can be more complicated\n",
    "- Some of the components can be trivial\n",
    "<br>\n",
    "<left><img src=\"./images/unit-03/unit-03-0_hmr53_2.png\" width=\"90%\" align=\"left\"></left>  "
   ]
  },
  {
   "cell_type": "markdown",
   "metadata": {
    "slideshow": {
     "slide_type": "slide"
    }
   },
   "source": [
    "# MapReduce: example\n",
    "- The output is **always** sorted by key\n",
    "<br>\n",
    "<left><img src=\"./images/unit-03/unit-03-0_hmr54.png\" width=\"90%\" align=\"left\"></left>  "
   ]
  },
  {
   "cell_type": "markdown",
   "metadata": {
    "slideshow": {
     "slide_type": "slide"
    }
   },
   "source": [
    "# MapReduce: example\n",
    "- Map can generate several keys\n",
    "<br>\n",
    "<left><img src=\"./images/unit-03/unit-03-0_hmr55.png\" width=\"90%\" align=\"left\"></left>  "
   ]
  },
  {
   "cell_type": "markdown",
   "metadata": {
    "slideshow": {
     "slide_type": "slide"
    }
   },
   "source": [
    "# MapReduce: worked out example 1\n",
    "<br>\n",
    "<right><img src=\"./images/unit-03/unit-03-0_hmr56.png\" width=\"10%\" align=\"right\"></right>\n",
    "<br>\n",
    "Given the following set of records of Month, State, and orders:\n",
    "- Compute the total number of orders per month using map reduce\n"
   ]
  },
  {
   "cell_type": "markdown",
   "metadata": {
    "slideshow": {
     "slide_type": "slide"
    }
   },
   "source": [
    "# MapReduce: worked out example 1 (2)\n",
    "- Compute the total number of orders per month using map reduce\n",
    "<br>\n",
    "<left><img src=\"./images/unit-03/unit-03-0_hmr57.png\" width=\"80%\" align=\"left\"></left>\n",
    "<br>"
   ]
  },
  {
   "cell_type": "markdown",
   "metadata": {
    "slideshow": {
     "slide_type": "slide"
    }
   },
   "source": [
    "# MapReduce: worked out example 1 (3)\n",
    "- Compute the total number of orders per month using map reduce\n",
    "<br>\n",
    "<left><img src=\"./images/unit-03/unit-03-0_hmr58.png\" width=\"80%\" align=\"left\"></left>\n",
    "<br>"
   ]
  },
  {
   "cell_type": "markdown",
   "metadata": {
    "slideshow": {
     "slide_type": "slide"
    }
   },
   "source": [
    "# MapReduce: worked out example 1 (4)\n",
    "- Compute the total number of orders per month using map reduce\n",
    "<br>\n",
    "<left><img src=\"./images/unit-03/unit-03-0_hmr59.png\" width=\"100%\" align=\"left\"></left>\n",
    "<br>"
   ]
  },
  {
   "cell_type": "markdown",
   "metadata": {
    "slideshow": {
     "slide_type": "slide"
    }
   },
   "source": [
    "# MapReduce: worked out example 1 (5)\n",
    "- Compute the total number of orders per month using map reduce\n",
    "<br>\n",
    "<left><img src=\"./images/unit-03/unit-03-0_hmr60.png\" width=\"100%\" align=\"left\"></left>\n",
    "<br>"
   ]
  },
  {
   "cell_type": "markdown",
   "metadata": {
    "slideshow": {
     "slide_type": "slide"
    }
   },
   "source": [
    "# MapReduce: worked out example 2\n",
    "<br>\n",
    "<right><img src=\"./images/unit-03/unit-03-0_hmr61.png\" width=\"10%\" align=\"right\"></right>\n",
    "<br>\n",
    "Given the following set of records of Month, State, and orders:\n",
    "- Compute the total number of orders per month using map reduce\n",
    "```python\n",
    "def map(datapoint):\n",
    "    ??\n",
    "def reduce(value1, value2):\n",
    "    ??\n",
    "```    "
   ]
  },
  {
   "cell_type": "markdown",
   "metadata": {
    "slideshow": {
     "slide_type": "slide"
    }
   },
   "source": [
    "# MapReduce: worked out example 2 (2)\n",
    "<br>\n",
    "<right><img src=\"./images/unit-03/unit-03-0_hmr62.png\" width=\"10%\" align=\"right\"></right>\n",
    "<br>\n",
    "Given the following set of records of Month, State, and orders:\n",
    "- Compute the total number of orders per month using map reduce\n",
    "```python\n",
    "def map(datapoint):\n",
    "    return [datapoint[0], datapoint[2]]\n",
    "def reduce(value1, value2):\n",
    "    return value1 + value2\n",
    "```    "
   ]
  },
  {
   "cell_type": "markdown",
   "metadata": {
    "slideshow": {
     "slide_type": "slide"
    }
   },
   "source": [
    "# MapReduce: theory\n",
    "- It uses properties of functional programming\n",
    "- Operations do not change data structures\n",
    "- Original data always exists unmodified\n",
    "- Data flows are implicitly defined by program design\n",
    "- Order of operation does not matter\n",
    "- This means:\n",
    "  - Easy to parallelize\n",
    "  - Fault-tolerant: re-execute failed operation\n",
    "  - Status and monitoring\n",
    "  - Easy abstraction\n"
   ]
  },
  {
   "cell_type": "markdown",
   "metadata": {
    "slideshow": {
     "slide_type": "slide"
    }
   },
   "source": [
    "# MapReduce (actual steps)\n",
    "- The actual implementation of the process relies on four steps  \n",
    "<center><img src=\"./images/unit-03/unit-03-0_hmr63.png\" width=\"70%\" align=\"center\"></center>  \n",
    "\n",
    "- **Shuffle** and **Combine** are largely *transparent to the user*\n",
    "  - Shuffle $\\rightarrow$ transfer output from mapper to reducer nodes with similar keys\n",
    "  - Combine $\\rightarrow$ output of reducer nodes into single output.\n",
    "- In Hadoop 2.0, MapReduce programs use HDFS and YARN.\n",
    "- MapReduce is also implemented in Spark"
   ]
  },
  {
   "cell_type": "markdown",
   "metadata": {
    "slideshow": {
     "slide_type": "slide"
    }
   },
   "source": [
    "# MapReduce Example: Orders for each Month\n",
    "<br>\n",
    "<center><img src=\"./images/unit-03/unit-03-0_hmr64.png\" width=\"90%\" align=\"center\"></center>  "
   ]
  },
  {
   "cell_type": "markdown",
   "metadata": {
    "slideshow": {
     "slide_type": "slide"
    }
   },
   "source": [
    "# MapReduce: worked out example 2\n",
    "<br>\n",
    "<right><img src=\"./images/unit-03/unit-03-0_hmr65.png\" width=\"10%\" align=\"right\"></right>\n",
    "<br>\n",
    "Given the following set of records of Month, State, and orders:\n",
    "- Compute the total number of orders per month using map reduce"
   ]
  },
  {
   "cell_type": "markdown",
   "metadata": {
    "slideshow": {
     "slide_type": "slide"
    }
   },
   "source": [
    "# MapReduce: Total Orders by State\n",
    "<br>\n",
    "<center><img src=\"./images/unit-03/unit-03-0_hmr66.png\" width=\"90%\" align=\"center\"></center>  "
   ]
  },
  {
   "cell_type": "markdown",
   "metadata": {
    "slideshow": {
     "slide_type": "slide"
    }
   },
   "source": [
    "# MapReduce: worked out example 3\n",
    "<br>\n",
    "<right><img src=\"./images/unit-03/unit-03-0_hmr67.png\" width=\"10%\" align=\"right\"></right>\n",
    "<br>\n",
    "Given the following set of records of Month, State, and orders\n",
    "- Compute the **average** number of orders per state using map reduce\n",
    "\n",
    "<br>\n",
    "The design of key, value pairs is important here\n"
   ]
  },
  {
   "cell_type": "markdown",
   "metadata": {
    "slideshow": {
     "slide_type": "slide"
    }
   },
   "source": [
    "# Databricks example  \n",
    "  \n",
    "Create distributed input:\n",
    "```\n",
    "rdd = sc.paralellize(input_list)\n",
    "```\n",
    "Map:\n",
    "```\n",
    "maped_rdd = rdd.map(f)\n",
    "```\n",
    "Reduce:\n",
    "```\n",
    "maped_rdd.reduceByKey(r)\n",
    "```"
   ]
  },
  {
   "cell_type": "markdown",
   "metadata": {
    "slideshow": {
     "slide_type": "slide"
    }
   },
   "source": [
    "# MapReduce exercises\n",
    "- **Document search**: Each data point is the line of a document. Suppose we are searching for the lines that contain a certain word \"ERROR\". Final output is the list of lines that contain the word \"ERROR\".\n",
    "- **Reserve web-link graph**: Each element data point is a key-value pair where key is a URL *A* and value is a list of URLs contained in the URL *A*. The final output should be a list of key-value pairs where key is URL *B* and value is a list of URLs that are linked to B.\n"
   ]
  },
  {
   "cell_type": "markdown",
   "metadata": {
    "slideshow": {
     "slide_type": "slide"
    }
   },
   "source": [
    "# Distributed system exercise\n",
    "- Using simulation in Python, estimate the average response time and the average probability of failure for the case studied in class. Check that it is the same theoretical predictions. \n",
    "\n",
    "<center><img src=\"./images/unit-03/unit-03-0_hmr68.png\" width=\"60%\" align=\"center\"></center>  "
   ]
  }
 ],
 "metadata": {
  "celltoolbar": "Slideshow",
  "kernelspec": {
   "display_name": "Python 3",
   "language": "python",
   "name": "python3"
  },
  "language_info": {
   "codemirror_mode": {
    "name": "ipython",
    "version": 3
   },
   "file_extension": ".py",
   "mimetype": "text/x-python",
   "name": "python",
   "nbconvert_exporter": "python",
   "pygments_lexer": "ipython3",
   "version": "3.8.6"
  }
 },
 "nbformat": 4,
 "nbformat_minor": 2
}
