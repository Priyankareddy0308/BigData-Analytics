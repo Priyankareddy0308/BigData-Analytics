{
 "cells": [
  {
   "cell_type": "markdown",
   "metadata": {},
   "source": [
    "# IST 718: Big Data Analytics\n",
    "\n",
    "- Professor: Daniel Acuna <deacuna@syr.edu>\n",
    "\n",
    "## General instructions:\n",
    "\n",
    "- You are welcome to discuss the problems with your classmates but __you are not allowed to copy any part of your answers either from your classmates or from the internet__\n",
    "- You can put the homework files anywhere you want in your http://notebook.acuna.io workspace but _do not change_ the file names. The TAs and the professor use these names to grade your homework.\n",
    "- Remove or comment out code that contains `raise NotImplementedError`. This is mainly to make the `assert` statement fail if nothing is submitted.\n",
    "- The tests shown in some cells (i.e., `assert` and `np.testing.` statements) are used to grade your answers. **However, the professor and TAs will use __additional__ test for your answer. Think about cases where your code should run even if it passess all the tests you see.**\n",
    "- Before downloading and submitting your work through Blackboard, remember to save and press `Validate` (or go to \n",
    "`Kernel`$\\rightarrow$`Restart and Run All`). \n",
    "- Good luck!"
   ]
  },
  {
   "cell_type": "code",
   "execution_count": 1,
   "metadata": {},
   "outputs": [],
   "source": [
    "# Load the packages needed for this part\n",
    "# create spark and sparkcontext objects\n",
    "from pyspark.sql import SparkSession\n",
    "import numpy as np\n",
    "\n",
    "spark = SparkSession.builder.getOrCreate()\n",
    "sc = spark.sparkContext\n",
    "\n",
    "import pyspark\n",
    "from pyspark.ml import feature, regression, Pipeline\n",
    "from pyspark.sql import functions as fn, Row\n",
    "from pyspark import sql\n",
    "\n",
    "import matplotlib.pyplot as plt\n",
    "import pandas as pd"
   ]
  },
  {
   "cell_type": "markdown",
   "metadata": {},
   "source": [
    "# Part 1: Servo analysis\n",
    "\n",
    "In this assignment, you will continue the analysis we started in class of the Servo dataset."
   ]
  },
  {
   "cell_type": "markdown",
   "metadata": {},
   "source": [
    "# Servo data analysis\n",
    "\n",
    "```console\n",
    "1. Title: Servo Data\n",
    "\n",
    "2. Sources\n",
    "   (a) Created by: Karl Ulrich (MIT) in 1986\n",
    "   (b) Donor: Ross Quinlan\n",
    "   (c) Date: May 1993\n",
    "\n",
    "3. Past Usage:\n",
    "\n",
    "   1.  Quinlan, J.R., \"Learning with continuous classes\", Proc. 5th Australian\n",
    "       Joint Conference on AI (eds A. Adams and L. Sterling), Singapore: World\n",
    "       Scientific, 1992\n",
    " \n",
    "   2.  Quinlan, J.R., \"Combining instance-based and model-based learning\",\n",
    "       Proc. ML'93 (ed P.E. Utgoff), San Mateo: Morgan Kaufmann 1993\n",
    " \n",
    "       Results on 10-way cross-validation:\n",
    " \n",
    "       Method\t\t\tAverage\t\tRelative\n",
    "       ------\t\t\t |Err|\t\t Error\n",
    " \t\t\t\t-------\t\t--------\n",
    " \n",
    "       Guessing mean\t\t  1.15\t\t  1.00\n",
    "       Instance-based\t\t   .52\t\t   .26\n",
    "       Regression\t\t   .86\t\t   .49\n",
    "       Model trees\t\t   .45\t\t   .29\n",
    "       Neural nets (G. Hinton)\t   .30\t\t   .11\n",
    "       Regression+instances\t   .48\t\t   .20\n",
    "       Model trees+instances\t   .30\t\t   .17\n",
    "       NN+instances\t\t   .29\t\t   .11\n",
    " \n",
    "4. Relevant Information:\n",
    "\n",
    "   Ross Quinlan:\n",
    "\n",
    "   This data was given to me by Karl Ulrich at MIT in 1986.  I didn't \n",
    "   record his description at the time, but here's his subsequent (1992) \n",
    "   recollection:\n",
    " \n",
    "     \"I seem to remember that the data was from a simulation of a servo\n",
    "     system involving a servo amplifier, a motor, a lead screw/nut, and a\n",
    "     sliding carriage of some sort.  It may have been on of the\n",
    "     translational axes of a robot on the 9th floor of the AI lab.  In any\n",
    "     case, the output value is almost certainly a rise time, or the time\n",
    "     required for the system to respond to a step change in a position set\n",
    "     point.\"\n",
    " \n",
    "   (Quinlan, ML'93)\n",
    "\n",
    "   \"This is an interesting collection of data provided by Karl \n",
    "    Ulrich.  It covers an extremely non-linear phenomenon - predicting the \n",
    "    rise time of a servomechanism in terms of two (continuous) gain settings\n",
    "    and two (discrete) choices of mechanical linkages.\"\n",
    "\n",
    "5. Number of Instances: 167\n",
    "\n",
    "6. Number of Attributes: 4 + numeric class attribute\n",
    "\n",
    "7. Attribute information:\n",
    "\n",
    "   1. motor: A,B,C,D,E\n",
    "   2. screw: A,B,C,D,E\n",
    "   3. pgain: 3,4,5,6\n",
    "   4. vgain: 1,2,3,4,5\n",
    "   5. class: 0.13 to 7.10\n",
    "\n",
    "8. Missing Attribute Values: None\n",
    "```"
   ]
  },
  {
   "cell_type": "code",
   "execution_count": 2,
   "metadata": {},
   "outputs": [],
   "source": [
    "# Load the data\n",
    "servo_df = spark.createDataFrame(pd.read_csv('servo.data',\n",
    "            sep=',', \n",
    "            header=None,\n",
    "            names=['motor', 'screw', 'pgain', 'vgain', 'rise_time']))"
   ]
  },
  {
   "cell_type": "code",
   "execution_count": 3,
   "metadata": {},
   "outputs": [
    {
     "name": "stdout",
     "output_type": "stream",
     "text": [
      "+-----+\n",
      "|motor|\n",
      "+-----+\n",
      "|    E|\n",
      "|    B|\n",
      "|    D|\n",
      "|    B|\n",
      "|    D|\n",
      "|    E|\n",
      "|    C|\n",
      "|    A|\n",
      "|    C|\n",
      "|    D|\n",
      "+-----+\n",
      "only showing top 10 rows\n",
      "\n"
     ]
    }
   ],
   "source": [
    "servo_df.select(fn.col('motor')).show(10)"
   ]
  },
  {
   "cell_type": "markdown",
   "metadata": {},
   "source": [
    "# 1. Explore the data"
   ]
  },
  {
   "cell_type": "markdown",
   "metadata": {},
   "source": [
    "With big data, datasets can be too big to bring them into the Spark client. However, we can use the `limit` method of a dataframe to limit the number of rows to bring as a Pandas dataframe"
   ]
  },
  {
   "cell_type": "markdown",
   "metadata": {},
   "source": [
    "Create a dataframe `servo_sample_df` with the first 20 rows of `servo_df`"
   ]
  },
  {
   "cell_type": "code",
   "execution_count": 4,
   "metadata": {
    "deletable": false,
    "nbgrader": {
     "checksum": "451a05ca5f0fd8171dacfea14ac9ba5f",
     "grade": false,
     "grade_id": "cell-c9d521c675b461ab",
     "locked": false,
     "schema_version": 1,
     "solution": true
    }
   },
   "outputs": [],
   "source": [
    "# create `servo_sample_df`\n",
    "servo_sample_df = servo_df.limit(20)\n",
    "#raise NotImplementedError()"
   ]
  },
  {
   "cell_type": "code",
   "execution_count": 5,
   "metadata": {
    "deletable": false,
    "editable": false,
    "nbgrader": {
     "checksum": "43a81391a0c03b713650167c51d422a8",
     "grade": true,
     "grade_id": "cell-945bf936abee733a",
     "locked": true,
     "points": 2,
     "schema_version": 1,
     "solution": false
    }
   },
   "outputs": [],
   "source": [
    "# 2 pts - right number of rows\n",
    "np.testing.assert_equal(servo_sample_df.count(), 20)"
   ]
  },
  {
   "cell_type": "markdown",
   "metadata": {},
   "source": [
    "**(3 pts)** Below, transform `servo_sample_df` into a Pandas dataframe and do a scatter plot of `motor` vs `rise_time`"
   ]
  },
  {
   "cell_type": "code",
   "execution_count": 6,
   "metadata": {
    "deletable": false,
    "nbgrader": {
     "checksum": "9d391fad8156223a222178d6b656f6dc",
     "grade": true,
     "grade_id": "cell-1df4f53b56e45b6e",
     "locked": false,
     "points": 3,
     "schema_version": 1,
     "solution": true
    }
   },
   "outputs": [
    {
     "data": {
      "text/plain": [
       "Text(0, 0.5, 'rise_time')"
      ]
     },
     "execution_count": 6,
     "metadata": {},
     "output_type": "execute_result"
    },
    {
     "data": {
      "image/png": "[encoded data removed]",
      "text/plain": [
       "<Figure size 432x288 with 1 Axes>"
      ]
     },
     "metadata": {
      "needs_background": "light"
     },
     "output_type": "display_data"
    }
   ],
   "source": [
    "# YOUR CODE HERE\n",
    "servo_sample_df = servo_df.limit(20).toPandas()\n",
    "servo_sample_df.plot(x='motor', y='rise_time', kind='scatter')\n",
    "# plt.title, plt.xlabel, plt.ylabel\n",
    "plt.title('relationship between motor and rise_time')\n",
    "plt.xlabel('motors')\n",
    "plt.ylabel('rise_time')\n",
    "#raise NotImplementedError()"
   ]
  },
  {
   "cell_type": "markdown",
   "metadata": {},
   "source": [
    "**(3 pts)** Below, transform `servo_sample_df` into a Pandas dataframe and do a scatter plot of `screw` vs `rise_time`"
   ]
  },
  {
   "cell_type": "code",
   "execution_count": 7,
   "metadata": {
    "deletable": false,
    "nbgrader": {
     "checksum": "fba3bc6e5a7085effcbedb3f55e6ac55",
     "grade": true,
     "grade_id": "cell-35b7ad7b19c37628",
     "locked": false,
     "points": 3,
     "schema_version": 1,
     "solution": true
    }
   },
   "outputs": [
    {
     "data": {
      "text/plain": [
       "Text(0, 0.5, 'rise_time')"
      ]
     },
     "execution_count": 7,
     "metadata": {},
     "output_type": "execute_result"
    },
    {
     "data": {
      "image/png": "[encoded data removed]",
      "text/plain": [
       "<Figure size 432x288 with 1 Axes>"
      ]
     },
     "metadata": {
      "needs_background": "light"
     },
     "output_type": "display_data"
    }
   ],
   "source": [
    "# YOUR CODE HERE\n",
    "servo_sample_df = servo_df.limit(20).toPandas()\n",
    "servo_sample_df.plot(x='screw', y='rise_time', kind='scatter')\n",
    "# plt.title, plt.xlabel, plt.ylabel\n",
    "plt.title('relationship between screw and rise_time')\n",
    "plt.xlabel('screw')\n",
    "plt.ylabel('rise_time')\n",
    "\n",
    "#raise NotImplementedError()"
   ]
  },
  {
   "cell_type": "markdown",
   "metadata": {},
   "source": [
    "## Perform correlations between vgain-rise time, pgain-rise time, and vgain-pgain"
   ]
  },
  {
   "cell_type": "markdown",
   "metadata": {},
   "source": [
    "Create a `servo_corr_df` dataframe that contains the correlations between `vgain` and `rise_time` as a column `corr_vgain_rise_time`, between `pgain` and `rise_time` as `corr_pgain_rise_time`, and `vgain` and `pgain` as `corr_vgain_pgain`."
   ]
  },
  {
   "cell_type": "code",
   "execution_count": 8,
   "metadata": {
    "deletable": false,
    "nbgrader": {
     "checksum": "d63807a257294b716b517f2cc48dea12",
     "grade": false,
     "grade_id": "cell-f59db3726a6aa941",
     "locked": false,
     "schema_version": 1,
     "solution": true
    }
   },
   "outputs": [],
   "source": [
    "# create `servo_corr_df` here\n",
    "\n",
    "#type(servo_df)\n",
    "#servo_df.stat.corr(\"vgain\", \"rise_time\")\n",
    "\n",
    "servo_corr_df = spark.createDataFrame([\n",
    "    Row(corr_vgain_rise_time = servo_df.stat.corr(\"vgain\", \"rise_time\"), corr_pgain_rise_time= servo_df.stat.corr(\"pgain\", \"rise_time\"), \n",
    "        corr_vgain_pgain= servo_df.stat.corr(\"vgain\", \"pgain\"))])\n",
    "\n",
    "\n",
    "# YOUR CODE HERE\n",
    "#raise NotImplementedError()"
   ]
  },
  {
   "cell_type": "code",
   "execution_count": 9,
   "metadata": {
    "deletable": false,
    "editable": false,
    "nbgrader": {
     "checksum": "63043687d2890640bf59ccf9fcabe580",
     "grade": true,
     "grade_id": "cell-fe722ee58305de94",
     "locked": true,
     "points": 2,
     "schema_version": 1,
     "solution": false
    }
   },
   "outputs": [],
   "source": [
    "## 7 pts\n",
    "np.testing.assert_equal(set(servo_corr_df.columns), \n",
    "                        {'corr_pgain_rise_time', 'corr_vgain_pgain', 'corr_vgain_rise_time'})\n",
    "np.testing.assert_almost_equal(list(servo_corr_df.first().asDict().values()),\n",
    "                               [-0.36438266626914595, -0.5981287119612234, 0.8122683058183874], decimal=3)"
   ]
  },
  {
   "cell_type": "markdown",
   "metadata": {},
   "source": [
    "## Compute mean rise_time for different motors and screws"
   ]
  },
  {
   "cell_type": "markdown",
   "metadata": {},
   "source": [
    "Create `motor_rise_time_df` with the column `motor` and `avg_rise_time`, where `avg_rise_time` is the average rise time for a motor. Sort the resulting dataframe from highest to lowest average rise time."
   ]
  },
  {
   "cell_type": "code",
   "execution_count": 65,
   "metadata": {
    "deletable": false,
    "nbgrader": {
     "checksum": "ad93ae6ce6e96f87f92ad0cea9481137",
     "grade": false,
     "grade_id": "cell-98ecb41cfdc326a3",
     "locked": false,
     "schema_version": 1,
     "solution": true
    }
   },
   "outputs": [
    {
     "name": "stdout",
     "output_type": "stream",
     "text": [
      "+-----+------------------+\n",
      "|motor|     avg_rise_time|\n",
      "+-----+------------------+\n",
      "|    E|1.1448932081818182|\n",
      "|    B| 1.681942367777778|\n",
      "|    D|0.9176125145454546|\n",
      "|    C|     1.25406100675|\n",
      "|    A| 1.761110668888889|\n",
      "+-----+------------------+\n",
      "\n"
     ]
    }
   ],
   "source": [
    "# YOUR CODE HERE\n",
    "motor_rise_time_df = servo_df.groupBy(\"motor\").agg(fn.mean('rise_time').alias('avg_rise_time'))\n",
    "motor_rise_time_df.sort(motor_rise_time_df.avg_rise_time.desc())\n",
    "motor_rise_time_df.show()\n",
    "#raise NotImplementedError()"
   ]
  },
  {
   "cell_type": "code",
   "execution_count": 11,
   "metadata": {
    "deletable": false,
    "editable": false,
    "nbgrader": {
     "checksum": "4b3fcf37c16d39a9b3a85cec05508553",
     "grade": true,
     "grade_id": "cell-a3fd7964078508ad",
     "locked": true,
     "points": 3,
     "schema_version": 1,
     "solution": false
    }
   },
   "outputs": [],
   "source": [
    "# 3 pts\n",
    "np.testing.assert_array_almost_equal(\n",
    "    (motor_rise_time_df.orderBy('motor').select('avg_rise_time').\\\n",
    "     rdd.map(lambda x: list(x.asDict().values())).collect())\n",
    "    ,\n",
    "[[1.761110668888889],\n",
    " [1.6819423677777776],\n",
    " [1.2540610067499998],\n",
    " [0.9176125145454546],\n",
    " [1.144893208181818]], decimal=3)"
   ]
  },
  {
   "cell_type": "markdown",
   "metadata": {},
   "source": [
    "Create `screw_rise_time_df` with the column `screw` and `avg_rise_time` sorted from highest to lowest average rise time."
   ]
  },
  {
   "cell_type": "code",
   "execution_count": 12,
   "metadata": {
    "deletable": false,
    "nbgrader": {
     "checksum": "b2a40fc0219dc6b18a898e6b8557110c",
     "grade": false,
     "grade_id": "cell-8ace067a04ebf09a",
     "locked": false,
     "schema_version": 1,
     "solution": true
    }
   },
   "outputs": [
    {
     "data": {
      "text/plain": [
       "DataFrame[screw: string, avg_rise_time: double]"
      ]
     },
     "execution_count": 12,
     "metadata": {},
     "output_type": "execute_result"
    }
   ],
   "source": [
    "screw_rise_time_df = servo_df.groupBy(\"screw\").agg(fn.mean('rise_time').alias('avg_rise_time'))\n",
    "screw_rise_time_df.sort(screw_rise_time_df.avg_rise_time.desc())\n",
    "#raise NotImplementedError()"
   ]
  },
  {
   "cell_type": "code",
   "execution_count": 13,
   "metadata": {
    "deletable": false,
    "editable": false,
    "nbgrader": {
     "checksum": "f99769bb3e1453e45c9257acb8a0f38c",
     "grade": true,
     "grade_id": "cell-e72d1676e16b246b",
     "locked": true,
     "points": 3,
     "schema_version": 1,
     "solution": false
    }
   },
   "outputs": [],
   "source": [
    "# 3 pts\n",
    "np.testing.assert_array_almost_equal(\n",
    "    (screw_rise_time_df.orderBy('screw').select('avg_rise_time').\\\n",
    "     rdd.map(lambda x: list(x.asDict().values())).collect())\n",
    "    ,\n",
    "       [[1.768461212142857],\n",
    " [1.3919625091428571],\n",
    " [1.2485862280645161],\n",
    " [1.1612471173333332],\n",
    " [1.225643291724138]],\n",
    "decimal=3)"
   ]
  },
  {
   "cell_type": "markdown",
   "metadata": {},
   "source": [
    "# Feature engineering"
   ]
  },
  {
   "cell_type": "markdown",
   "metadata": {},
   "source": [
    "## Dummy variables for motors and screws\n",
    "Create a dataframe `dummy_df` with columns `motor` and `screw` as dummy variables, and columns `vgain`, `pgain`, and `rise_time`. Use motor D and screw C as the baselines and name the dummy variables `motor_A` for motor `A` and so on. Follow a similar pattern for screw. The dataframe `dummy_df` should not contain the columns `motor` and `screw` but only their dummy variable representations. **All column types should be float or integer.**"
   ]
  },
  {
   "cell_type": "code",
   "execution_count": 85,
   "metadata": {
    "deletable": false,
    "nbgrader": {
     "checksum": "50bd1d331eeeeecabad0c2c873438372",
     "grade": false,
     "grade_id": "cell-eb211f716041febd",
     "locked": false,
     "schema_version": 1,
     "solution": true
    }
   },
   "outputs": [
    {
     "name": "stdout",
     "output_type": "stream",
     "text": [
      "+-------+-------+-------+-------+-------+-------+-------+-------+-----+-----+----------+\n",
      "|motor_A|motor_B|motor_C|motor_E|screw_A|screw_B|screw_D|screw_E|vgain|pgain| rise_time|\n",
      "+-------+-------+-------+-------+-------+-------+-------+-------+-----+-----+----------+\n",
      "|      0|      0|      0|      1|      0|      0|      0|      1|    4|    5|0.28125095|\n",
      "|      0|      1|      0|      0|      0|      0|      1|      0|    5|    6| 0.5062525|\n",
      "|      0|      0|      0|      0|      0|      0|      1|      0|    3|    4|0.35625148|\n",
      "|      0|      1|      0|      0|      1|      0|      0|      0|    2|    3|  5.500033|\n",
      "|      0|      0|      0|      0|      0|      1|      0|      0|    5|    6|0.35625148|\n",
      "|      0|      0|      0|      1|      0|      0|      0|      0|    3|    4| 0.8062546|\n",
      "|      0|      0|      1|      0|      1|      0|      0|      0|    2|    3|  5.100014|\n",
      "|      1|      0|      0|      0|      1|      0|      0|      0|    2|    3| 5.7000422|\n",
      "|      0|      0|      1|      0|      1|      0|      0|      0|    5|    6|0.76875436|\n",
      "|      0|      0|      0|      0|      1|      0|      0|      0|    1|    4| 1.0312537|\n",
      "|      0|      1|      0|      0|      0|      0|      0|      1|    5|    6|0.46875226|\n",
      "|      0|      0|      0|      1|      0|      0|      0|      0|    4|    5|0.39375174|\n",
      "|      0|      1|      0|      0|      0|      0|      0|      0|    1|    4|0.28125095|\n",
      "|      0|      0|      0|      1|      0|      0|      0|      0|    1|    3|       1.1|\n",
      "|      0|      0|      1|      0|      0|      0|      0|      0|    4|    5| 0.5062525|\n",
      "|      0|      0|      0|      1|      0|      1|      0|      0|    2|    3| 1.8999897|\n",
      "|      0|      0|      0|      0|      0|      0|      0|      0|    1|    3| 0.9000011|\n",
      "|      0|      1|      0|      0|      0|      0|      0|      0|    4|    5|0.46875226|\n",
      "|      0|      1|      0|      0|      0|      1|      0|      0|    4|    5| 0.5437528|\n",
      "|      0|      0|      1|      0|      0|      0|      0|      1|    2|    4|0.20625044|\n",
      "+-------+-------+-------+-------+-------+-------+-------+-------+-----+-----+----------+\n",
      "only showing top 20 rows\n",
      "\n"
     ]
    }
   ],
   "source": [
    "# create dummy_df below\n",
    "#dummy_df = spark.createDataFrame([\"motor\"])\n",
    "\n",
    "#motors = servo_df.select(\"motor\").distinct().rdd.flatMap(lambda x: x).collect()\n",
    "motors = ['A','B','C','E']\n",
    "screws = ['A','B','D','E']\n",
    "\n",
    "motor = [fn.when(fn.col(\"motor\") == category, 1).otherwise(0).alias('motor_'+category)\n",
    "         for category in motors]\n",
    "\n",
    "screw = [fn.when(fn.col(\"screw\") == category, 1).otherwise(0).alias('screw_'+category)\n",
    "         for category in screws]\n",
    "\n",
    "#categories\n",
    "dummy_df = servo_df.select(*motor, *screw, 'vgain', 'pgain', 'rise_time')\n",
    "dummy_df.show()\n",
    "#raise NotImplementedError()"
   ]
  },
  {
   "cell_type": "code",
   "execution_count": 95,
   "metadata": {
    "deletable": false,
    "editable": false,
    "nbgrader": {
     "checksum": "54ee15ea1229510a08e9c1b1acb1a039",
     "grade": true,
     "grade_id": "cell-9fdc091f4ff491bf",
     "locked": true,
     "points": 3,
     "schema_version": 1,
     "solution": false
    }
   },
   "outputs": [],
   "source": [
    "# 3 pts\n",
    "np.testing.assert_equal(len(dummy_df.columns), 11)\n",
    "np.testing.assert_equal(dummy_df.select(fn.sum('motor_A')).first()['sum(motor_A)'], 36)\n",
    "np.testing.assert_equal(dummy_df.select(fn.sum('screw_A')).first()['sum(screw_A)'], 42)"
   ]
  },
  {
   "cell_type": "markdown",
   "metadata": {},
   "source": [
    "# Model comparison\n",
    "\n",
    "In the next set of questions, you will use the splits below to fit, validate, and estimate the generalization error of your models. The `randomSplit` is called with a seed so that it does not change from what the professor used."
   ]
  },
  {
   "cell_type": "code",
   "execution_count": 68,
   "metadata": {
    "deletable": false,
    "editable": false,
    "nbgrader": {
     "checksum": "679501d8b3b5eca4b45bb5ce33c85bd2",
     "grade": false,
     "grade_id": "cell-50d140f5bb9fb0a6",
     "locked": true,
     "schema_version": 1,
     "solution": false
    }
   },
   "outputs": [
    {
     "name": "stdout",
     "output_type": "stream",
     "text": [
      "# points in training:  98\n",
      "# points in validation:  52\n",
      "# points in testing:  17\n"
     ]
    }
   ],
   "source": [
    "training_df, validation_df, testing_df = dummy_df.randomSplit([0.6, 0.3, 0.1], seed=0)\n",
    "print(\"# points in training: \", training_df.count())\n",
    "print(\"# points in validation: \", validation_df.count())\n",
    "print(\"# points in testing: \", testing_df.count())"
   ]
  },
  {
   "cell_type": "markdown",
   "metadata": {},
   "source": [
    "## Propose three regression models\n",
    "\n",
    "In the next section, you will choose the best model to explain the data in `servo_df`. Select the right split of the data for the right step of the process (i.e., training, validation, and testing)"
   ]
  },
  {
   "cell_type": "markdown",
   "metadata": {},
   "source": [
    "### Model 1: Fit model with only `pgain`\n",
    "\n",
    "Create a pipeline that takes *pgain* as a feature to predict *rise time* and fits a linear regression model. You should start your pipeline by taking the appropriate column or columns from `dummy_df` in which the raw feature `pgain` may or may not have been feature engineered. Assign the fit pipeline transformer to `pipe_model1`. Your pipeline must have one vector assembler followed by a linear regression."
   ]
  },
  {
   "cell_type": "code",
   "execution_count": 79,
   "metadata": {
    "deletable": false,
    "nbgrader": {
     "checksum": "e13dd6486f50f9fdd385d0e435a808b5",
     "grade": false,
     "grade_id": "cell-3b76b5c1134779fc",
     "locked": false,
     "schema_version": 1,
     "solution": true
    }
   },
   "outputs": [],
   "source": [
    "# create `pipe_model1` below\n",
    "va = feature.VectorAssembler(inputCols=['pgain'], outputCol='features')\n",
    "lr = regression.LinearRegression(featuresCol='features', labelCol='rise_time')\n",
    "pipe = Pipeline(stages=[va, lr])\n",
    "pipe_model1 = pipe.fit(training_df)\n",
    "#raise NotImplementedError()"
   ]
  },
  {
   "cell_type": "code",
   "execution_count": 80,
   "metadata": {
    "deletable": false,
    "editable": false,
    "nbgrader": {
     "checksum": "b1c239aa677cdd76caa08a036ae4cffd",
     "grade": true,
     "grade_id": "cell-3944466629fee9da",
     "locked": true,
     "points": 5,
     "schema_version": 1,
     "solution": false
    }
   },
   "outputs": [],
   "source": [
    "# (5 pts)\n",
    "np.testing.assert_equal(type(pipe_model1.stages[0]), feature.VectorAssembler)\n",
    "np.testing.assert_equal(type(pipe_model1.stages[1]), regression.LinearRegressionModel)\n",
    "np.testing.assert_array_equal(pipe_model1.stages[1].coefficients.shape, (1,))"
   ]
  },
  {
   "cell_type": "markdown",
   "metadata": {},
   "source": [
    "### Model 2: Fit model with only `vgain`\n",
    "\n",
    "Follow the same idea as above and create a pipeline transformer `pipe_model2`"
   ]
  },
  {
   "cell_type": "code",
   "execution_count": 81,
   "metadata": {
    "deletable": false,
    "nbgrader": {
     "checksum": "a9befb44f4f0a022cff725205ae67877",
     "grade": false,
     "grade_id": "cell-52aee024a8f17921",
     "locked": false,
     "schema_version": 1,
     "solution": true
    }
   },
   "outputs": [],
   "source": [
    "va = feature.VectorAssembler(inputCols=['vgain'], outputCol='features')\n",
    "lr = regression.LinearRegression(featuresCol='features', labelCol='rise_time')\n",
    "pipe = Pipeline(stages=[va, lr])\n",
    "pipe_model2 = pipe.fit(training_df)\n",
    "#raise NotImplementedError()"
   ]
  },
  {
   "cell_type": "code",
   "execution_count": 72,
   "metadata": {
    "deletable": false,
    "editable": false,
    "nbgrader": {
     "checksum": "4932a21cd41306da5c217705433507f7",
     "grade": true,
     "grade_id": "cell-d278316c89d97741",
     "locked": true,
     "points": 5,
     "schema_version": 1,
     "solution": false
    }
   },
   "outputs": [],
   "source": [
    "# (5 pts)\n",
    "np.testing.assert_equal(type(pipe_model2.stages[0]), feature.VectorAssembler)\n",
    "np.testing.assert_equal(type(pipe_model2.stages[1]), regression.LinearRegressionModel)\n",
    "np.testing.assert_array_equal(pipe_model2.stages[1].coefficients.shape, (1,))"
   ]
  },
  {
   "cell_type": "markdown",
   "metadata": {},
   "source": [
    "### Model 3: Fit model with only motor, screw, pgain, and vgain\n",
    "\n",
    "Follow the same idea as above and create a pipeline transformer `pipe_model3`. Remember that some features have been feature engineered. In particular, use the transformed columns in the order: motor, screw, pgain, and vgain. Choose the columns from `dummy_df` appropriately."
   ]
  },
  {
   "cell_type": "code",
   "execution_count": 87,
   "metadata": {
    "deletable": false,
    "nbgrader": {
     "checksum": "35a8633d09ab0c29fd669fee3c06e97a",
     "grade": false,
     "grade_id": "cell-c120f9f58afe1ee6",
     "locked": false,
     "schema_version": 1,
     "solution": true
    }
   },
   "outputs": [],
   "source": [
    "# create `pipe_model2` below\n",
    "col = dummy_df.columns[0:10]\n",
    "va = feature.VectorAssembler(inputCols=col, outputCol='features')\n",
    "lr = regression.LinearRegression(featuresCol='features', labelCol='rise_time')\n",
    "pipe = Pipeline(stages=[va, lr])\n",
    "pipe_model3 = pipe.fit(training_df)\n",
    "#raise NotImplementedError()"
   ]
  },
  {
   "cell_type": "code",
   "execution_count": 88,
   "metadata": {
    "deletable": false,
    "editable": false,
    "nbgrader": {
     "checksum": "64c5a8082b38841e089079c4fde91727",
     "grade": true,
     "grade_id": "cell-1cfd038a4f349405",
     "locked": true,
     "points": 5,
     "schema_version": 1,
     "solution": false
    }
   },
   "outputs": [],
   "source": [
    "# (5 pts)\n",
    "np.testing.assert_equal(type(pipe_model3.stages[0]), feature.VectorAssembler)\n",
    "np.testing.assert_equal(type(pipe_model3.stages[1]), regression.LinearRegressionModel)\n",
    "np.testing.assert_array_equal(pipe_model3.stages[1].coefficients.shape, (10,))"
   ]
  },
  {
   "cell_type": "markdown",
   "metadata": {},
   "source": [
    "# Compare models"
   ]
  },
  {
   "cell_type": "markdown",
   "metadata": {},
   "source": [
    "### Estimate RMSE on validation data for the three models\n",
    "\n",
    "Create three dataframes `rmse1_df`, `rmse2_df`, and `rmse3_df` for models 1, 2, and 3, respectively, with only with column `rmse`"
   ]
  },
  {
   "cell_type": "code",
   "execution_count": 83,
   "metadata": {
    "deletable": false,
    "nbgrader": {
     "checksum": "dc5e62f02884fcce8ae909945800700f",
     "grade": false,
     "grade_id": "cell-a9dc54b0e8d696ef",
     "locked": false,
     "schema_version": 1,
     "solution": true
    }
   },
   "outputs": [],
   "source": [
    "# create rmse1_df, rmse2_df, and rmse3_df dataframes below\n",
    "#pipe_model1.transform(validation_df)\n",
    "rmse1 = fn.sqrt(fn.mean((fn.col('rise_time') - fn.col('prediction'))**2)).alias('rmse')\n",
    "rmse1_df = pipe_model1.transform(validation_df).select(rmse1)\n",
    "rmse2 = fn.sqrt(fn.mean((fn.col('rise_time') - fn.col('prediction'))**2)).alias('rmse')\n",
    "rmse2_df = pipe_model2.transform(validation_df).select(rmse2)\n",
    "rmse3 = fn.sqrt(fn.mean((fn.col('rise_time') - fn.col('prediction'))**2)).alias('rmse')\n",
    "rmse3_df = pipe_model3.transform(validation_df).select(rmse3)\n",
    "#raise NotImplementedError()"
   ]
  },
  {
   "cell_type": "code",
   "execution_count": 84,
   "metadata": {},
   "outputs": [
    {
     "name": "stdout",
     "output_type": "stream",
     "text": [
      "+------------------+\n",
      "|              rmse|\n",
      "+------------------+\n",
      "|1.0124595090119484|\n",
      "+------------------+\n",
      "\n",
      "+-----------------+\n",
      "|             rmse|\n",
      "+-----------------+\n",
      "|1.034431427637052|\n",
      "+-----------------+\n",
      "\n",
      "+------------------+\n",
      "|              rmse|\n",
      "+------------------+\n",
      "|1.0700446106582804|\n",
      "+------------------+\n",
      "\n"
     ]
    }
   ],
   "source": [
    "# display the answers here\n",
    "rmse1_df.show()\n",
    "rmse2_df.show()\n",
    "rmse3_df.show()"
   ]
  },
  {
   "cell_type": "code",
   "execution_count": 51,
   "metadata": {
    "deletable": false,
    "editable": false,
    "nbgrader": {
     "checksum": "5184ddaec56494171407cfb72d94dd58",
     "grade": true,
     "grade_id": "cell-ef7fe89203dcf7ae",
     "locked": true,
     "points": 5,
     "schema_version": 1,
     "solution": false
    }
   },
   "outputs": [],
   "source": [
    "# (5 pts)\n",
    "np.testing.assert_equal(rmse1_df.count(), 1)\n",
    "np.testing.assert_equal(rmse2_df.count(), 1)\n",
    "np.testing.assert_equal(rmse3_df.count(), 1)\n",
    "np.testing.assert_equal(rmse1_df.columns, ['rmse'])\n",
    "np.testing.assert_equal(rmse2_df.columns, ['rmse'])\n",
    "np.testing.assert_equal(rmse3_df.columns, ['rmse'])"
   ]
  },
  {
   "cell_type": "markdown",
   "metadata": {},
   "source": [
    "Assign the best cross validated model to a variable `best_model` below"
   ]
  },
  {
   "cell_type": "code",
   "execution_count": 60,
   "metadata": {
    "deletable": false,
    "nbgrader": {
     "checksum": "3f7ff2f70265cbad1dc39394c737a946",
     "grade": false,
     "grade_id": "cell-ae68c8174768b63e",
     "locked": false,
     "schema_version": 1,
     "solution": true
    }
   },
   "outputs": [
    {
     "data": {
      "text/plain": [
       "pyspark.ml.pipeline.PipelineModel"
      ]
     },
     "execution_count": 60,
     "metadata": {},
     "output_type": "execute_result"
    }
   ],
   "source": [
    "# assign best model (the best pipeline transformer) to a variable best_model below\n",
    "# YOUR CODE HERE\n",
    "best_model = pipe_model2\n",
    "type(best_model)\n",
    "#raise NotImplementedError()"
   ]
  },
  {
   "cell_type": "code",
   "execution_count": 53,
   "metadata": {
    "deletable": false,
    "editable": false,
    "nbgrader": {
     "checksum": "6149102c64b5742a9532945cad43daba",
     "grade": true,
     "grade_id": "cell-8d3e6c2fc9feb10f",
     "locked": true,
     "points": 2,
     "schema_version": 1,
     "solution": false
    }
   },
   "outputs": [],
   "source": [
    "# (2 pts)\n",
    "np.testing.assert_equal(type(best_model), pyspark.ml.pipeline.PipelineModel)"
   ]
  },
  {
   "cell_type": "markdown",
   "metadata": {},
   "source": [
    "### Estimate generalization performance with RMSE\n",
    "\n",
    "Create a variable `rmse_best_df` that contains the RMSE of the best model on testing data"
   ]
  },
  {
   "cell_type": "code",
   "execution_count": 61,
   "metadata": {
    "deletable": false,
    "nbgrader": {
     "checksum": "69148aec455c19af6abda44a65d5c6cf",
     "grade": false,
     "grade_id": "cell-be77e90562322046",
     "locked": false,
     "schema_version": 1,
     "solution": true
    }
   },
   "outputs": [
    {
     "name": "stdout",
     "output_type": "stream",
     "text": [
      "+-----------------+\n",
      "|             rmse|\n",
      "+-----------------+\n",
      "|1.272813073252812|\n",
      "+-----------------+\n",
      "\n"
     ]
    }
   ],
   "source": [
    "# create rmse_best_df\n",
    "pipe_model1.transform(testing_df).select(rmse1).show()\n",
    "rmse_best_df = pipe_model1.transform(testing_df).select(rmse1)\n",
    "#raise NotImplementedError()"
   ]
  },
  {
   "cell_type": "code",
   "execution_count": 62,
   "metadata": {
    "deletable": false,
    "editable": false,
    "nbgrader": {
     "checksum": "9a496ead0654ee61fcfa6802586301e9",
     "grade": true,
     "grade_id": "cell-7ea33e8409261269",
     "locked": true,
     "points": 3,
     "schema_version": 1,
     "solution": false
    }
   },
   "outputs": [],
   "source": [
    "# (3 pts)\n",
    "np.testing.assert_equal(rmse_best_df.count(), 1)\n",
    "np.testing.assert_equal(rmse_best_df.columns, ['rmse'])"
   ]
  },
  {
   "cell_type": "markdown",
   "metadata": {},
   "source": [
    "**(3 pts)** What is the best estimated generalization performance of the best model? Answer in the cell below"
   ]
  },
  {
   "cell_type": "code",
   "execution_count": 63,
   "metadata": {
    "deletable": false,
    "nbgrader": {
     "checksum": "87ceb0a1ca6b81effacaacd94574af69",
     "grade": true,
     "grade_id": "cell-250e44de7b4539f3",
     "locked": false,
     "points": 3,
     "schema_version": 1,
     "solution": true
    }
   },
   "outputs": [],
   "source": [
    "# best model is model 1\n",
    "#raise NotImplementedError()"
   ]
  },
  {
   "cell_type": "markdown",
   "metadata": {},
   "source": [
    "# Do inference with best model"
   ]
  },
  {
   "cell_type": "markdown",
   "metadata": {},
   "source": [
    "Assume that model 3 is the best one. Redefine a new pipeline for this model called `pipe_model_best` and fit it to the **entire training data** (all of `dummy_df`)."
   ]
  },
  {
   "cell_type": "code",
   "execution_count": 56,
   "metadata": {
    "deletable": false,
    "nbgrader": {
     "checksum": "7414f608465227abb4a64b9657bb0f72",
     "grade": false,
     "grade_id": "cell-5d347fc67e4a77b6",
     "locked": false,
     "schema_version": 1,
     "solution": true
    }
   },
   "outputs": [],
   "source": [
    "# create `pipe_model_best` below\n",
    "#col = dummy_df.columns[0:10]\n",
    "pipe_model_best = Pipeline(stages=[\n",
    "  feature.VectorAssembler(inputCols=['motor_A','motor_B','motor_C','motor_E','screw_A','screw_B','screw_D','screw_E','pgain','vgain'], outputCol='features'),\n",
    "  regression.LinearRegression(featuresCol='features', labelCol='rise_time')  \n",
    "]).fit(training_df)\n",
    "#raise NotImplementedError()"
   ]
  },
  {
   "cell_type": "code",
   "execution_count": 57,
   "metadata": {},
   "outputs": [
    {
     "name": "stdout",
     "output_type": "stream",
     "text": [
      "+--------------------+----------+\n",
      "|            features| rise_time|\n",
      "+--------------------+----------+\n",
      "|(10,[3,7,8,9],[1....|0.28125095|\n",
      "|(10,[1,6,8,9],[1....| 0.5062525|\n",
      "|(10,[6,8,9],[1.0,...|0.35625148|\n",
      "|(10,[1,4,8,9],[1....|  5.500033|\n",
      "|(10,[5,8,9],[1.0,...|0.35625148|\n",
      "+--------------------+----------+\n",
      "only showing top 5 rows\n",
      "\n"
     ]
    }
   ],
   "source": [
    "pipe_model_best.transform(dummy_df).select('features','rise_time').show(5)"
   ]
  },
  {
   "cell_type": "code",
   "execution_count": 58,
   "metadata": {
    "deletable": false,
    "editable": false,
    "nbgrader": {
     "checksum": "309d7279ebeea7fa95af4c654858d50f",
     "grade": true,
     "grade_id": "cell-230c8b35da808e47",
     "locked": true,
     "points": 4,
     "schema_version": 1,
     "solution": false
    }
   },
   "outputs": [],
   "source": [
    "# (4 pts) check that the model was fitted correctly\n",
    "np.testing.assert_equal(type(pipe_model_best.stages[0]), feature.VectorAssembler)\n",
    "np.testing.assert_equal(type(pipe_model_best.stages[1]), regression.LinearRegressionModel)\n",
    "np.testing.assert_array_equal(pipe_model_best.stages[1].coefficients.shape, (10,))"
   ]
  },
  {
   "cell_type": "markdown",
   "metadata": {},
   "source": [
    "**(4 pts)** Assume that all features on `dummy_df` were comparable (i.e., standardized). Taking motor D and screw C as the baseline, what are the top 2 most important features for *increasing rise time* and the top 2 most important features for *decreasing rise time*? Answer below with code and comments to support your answer"
   ]
  },
  {
   "cell_type": "code",
   "execution_count": 98,
   "metadata": {
    "deletable": false,
    "nbgrader": {
     "checksum": "26b6ef569dc2c8207c0e69cc984d80b9",
     "grade": true,
     "grade_id": "cell-a1305a62d8222591",
     "locked": false,
     "points": 4,
     "schema_version": 1,
     "solution": true
    }
   },
   "outputs": [
    {
     "data": {
      "text/plain": [
       "DenseVector([1.763, 1.3419, 1.2286, 1.1588, 1.3202, 0.3977, -0.1191, -0.1492, -1.7228, 0.6123])"
      ]
     },
     "execution_count": 98,
     "metadata": {},
     "output_type": "execute_result"
    }
   ],
   "source": [
    "# YOUR CODE HERE\n",
    "pipe_model_best.stages[1].coefficients\n",
    "#raise NotImplementedError()\n",
    "#Top two most important features are motor_A, motor_B for increasing the rise time and Screw_D and Screw_E are the most important features\n",
    "# for decreasing rise time"
   ]
  }
 ],
 "metadata": {
  "kernelspec": {
   "display_name": "Python 3",
   "language": "python",
   "name": "python3"
  },
  "language_info": {
   "codemirror_mode": {
    "name": "ipython",
    "version": 3
   },
   "file_extension": ".py",
   "mimetype": "text/x-python",
   "name": "python",
   "nbconvert_exporter": "python",
   "pygments_lexer": "ipython3",
   "version": "3.8.6"
  },
  "toc": {
   "base_numbering": 1,
   "nav_menu": {},
   "number_sections": true,
   "sideBar": true,
   "skip_h1_title": false,
   "title_cell": "Table of Contents",
   "title_sidebar": "Contents",
   "toc_cell": false,
   "toc_position": {},
   "toc_section_display": true,
   "toc_window_display": false
  }
 },
 "nbformat": 4,
 "nbformat_minor": 4
}
