{
 "cells": [
  {
   "cell_type": "markdown",
   "metadata": {
    "deletable": false,
    "editable": false,
    "nbgrader": {
     "checksum": "0a8b253cea124309dc7872a31b41818e",
     "grade": false,
     "grade_id": "cell-b038e38b5e3072a9",
     "locked": true,
     "schema_version": 1,
     "solution": false
    }
   },
   "source": [
    "# IST 718: Big Data Analytics\n",
    "\n",
    "- Professor: Daniel Acuna <deacuna@syr.edu>\n",
    "\n",
    "## General instructions:\n",
    "\n",
    "- You are welcome to discuss the problems with your classmates but __you are not allowed to copy any part of your answers either from your classmates or from the internet__\n",
    "- You can put the homework files anywhere you want in your https://jupyterhub.ischool.syr.edu/ workspace but _do not change_ the file names. The TAs and the professor use these names to grade your homework.\n",
    "- Remove or comment out code that contains `raise NotImplementedError`. This is mainly to make the `assert` statement fail if nothing is submitted.\n",
    "- The tests shown in some cells (i.e., `assert` and `np.testing.` statements) are used to grade your answers. **However, the professor and TAs will use __additional__ test for your answer. Think about cases where your code should run even if it passess all the tests you see.**\n",
    "- Before downloading and submitting your work through Blackboard, remember to save and press `Validate` (or go to \n",
    "`Kernel`$\\rightarrow$`Restart and Run All`). \n",
    "- Good luck!"
   ]
  },
  {
   "cell_type": "code",
   "execution_count": 1,
   "metadata": {
    "deletable": false,
    "editable": false,
    "nbgrader": {
     "checksum": "ef5f72ab3c2c900f039ed5f753e06b6c",
     "grade": false,
     "grade_id": "cell-a357d0688b9e7beb",
     "locked": true,
     "schema_version": 1,
     "solution": false
    }
   },
   "outputs": [],
   "source": [
    "# import packages\n",
    "import numpy as np\n",
    "import matplotlib.pyplot as plt"
   ]
  },
  {
   "cell_type": "markdown",
   "metadata": {},
   "source": [
    "# Part 3: Optimization"
   ]
  },
  {
   "cell_type": "markdown",
   "metadata": {
    "deletable": false,
    "editable": false,
    "nbgrader": {
     "checksum": "bca45b14e2ff64c683ba13c9a6e6385c",
     "grade": false,
     "grade_id": "cell-19a9da87652dc577",
     "locked": true,
     "schema_version": 1,
     "solution": false
    }
   },
   "source": [
    "The golden ratio is a beautiful number that appears all over nature and mathematics (see more https://en.wikipedia.org/wiki/Golden_ratio).\n",
    "\n",
    "It is defined as the solution of the following interesting relationship between the sum of two lengths $a$ and $b$ and their ratio $\\frac{a}{b}$:\n",
    "\n",
    "$$\\frac{a + b}{a}=\\frac{a}{b}\\equiv g$$\n",
    "\n",
    "which we can express as the solution of an equation after moving factors around\n",
    "\n",
    "\n",
    "$$\\frac{a}{a} + \\frac{b}{a}=\\frac{a}{b}\\equiv g$$\n",
    "\n",
    "and replacing gives the equation we must solve:\n",
    "\n",
    "$$1 + \\frac{1}{g}=g \\tag{1}$$\n",
    "\n",
    "We will further define the left hand side of (1) as \n",
    "$$\\text{lhs}(g)=1 + \\frac{1}{g}$$\n",
    "\n",
    "and the right-hand side as\n",
    "$$\\text{rhs}(g)=g$$\n",
    "\n",
    "In this section, we are going to compute the golder ratio using gradient descent."
   ]
  },
  {
   "cell_type": "markdown",
   "metadata": {},
   "source": [
    "**Question 3.1 (5 pts)** Simultaneously plot the right-hand side function and left-hand side function over the range of g in 0.5 and 2.5. Add the proper axis labels and legends to the plot. You can use the function `np.linspace` to generate a vector of numbers between 0.5 and 2.5. Try to intuitively think at which point both functions intersect."
   ]
  },
  {
   "cell_type": "code",
   "execution_count": 2,
   "metadata": {
    "deletable": false,
    "nbgrader": {
     "checksum": "7c451920542551995d52d39442d44aaa",
     "grade": true,
     "grade_id": "cell-63422df7ec5d7f5d",
     "locked": false,
     "points": 5,
     "schema_version": 1,
     "solution": true
    }
   },
   "outputs": [
    {
     "data": {
      "text/plain": [
       "<matplotlib.legend.Legend at 0x7f42313c2ee0>"
      ]
     },
     "execution_count": 2,
     "metadata": {},
     "output_type": "execute_result"
    },
    {
     "data": {
      "image/png": "[encoded data removed]",
      "text/plain": [
       "<Figure size 432x288 with 1 Axes>"
      ]
     },
     "metadata": {
      "needs_background": "light"
     },
     "output_type": "display_data"
    }
   ],
   "source": [
    "# YOUR CODE HERE\n",
    "g = np.linspace(0.5,2.5,2) # Spacing between the points can be controlled using linspace unlike arrange\n",
    "RHS = g\n",
    "plt.plot(RHS)\n",
    "LHS = 1+(1/g)\n",
    "plt.plot(LHS)\n",
    "plt.xlabel('f(g)')\n",
    "plt.ylabel('g')\n",
    "plt.legend(['RHS','LHS'])\n",
    "#Both the functions intersect at the mean value of \"g\"\n",
    "#raise NotImplementedError()"
   ]
  },
  {
   "cell_type": "markdown",
   "metadata": {},
   "source": [
    "**Question 3.2 (10 pts)** Define a quadratic loss function `L` that penalizes the error (e.g., the difference) between the lhs and rhs for a given value of $g$."
   ]
  },
  {
   "cell_type": "code",
   "execution_count": 3,
   "metadata": {
    "deletable": false,
    "nbgrader": {
     "checksum": "ce635b27f526fa8de3b861f3ae74ed94",
     "grade": false,
     "grade_id": "cell-e1ce69eada8a189a",
     "locked": false,
     "schema_version": 1,
     "solution": true
    }
   },
   "outputs": [],
   "source": [
    "def L(g):\n",
    "    loss = pow(((1+(1/g))-g),2)\n",
    "    return loss\n",
    "\n",
    "#raise NotImplementedError()"
   ]
  },
  {
   "cell_type": "markdown",
   "metadata": {},
   "source": [
    "You can try your function below. We know that the golden ratio is closer to 1.5 than 1.0, therefore, your loss function should be bigger at `g=1.0` than `g=1.5`"
   ]
  },
  {
   "cell_type": "code",
   "execution_count": 4,
   "metadata": {},
   "outputs": [
    {
     "name": "stdout",
     "output_type": "stream",
     "text": [
      "L(1.0)=1.00\n",
      "L(1.5)=0.03\n"
     ]
    }
   ],
   "source": [
    "print(f\"L(1.0)={L(1.0):.2f}\")\n",
    "print(f\"L(1.5)={L(1.5):.2f}\")"
   ]
  },
  {
   "cell_type": "code",
   "execution_count": 5,
   "metadata": {
    "deletable": false,
    "editable": false,
    "nbgrader": {
     "checksum": "8f8ec72e9187b4051b9fa52b222ee033",
     "grade": true,
     "grade_id": "cell-7ce4ca9b658f924b",
     "locked": true,
     "points": 10,
     "schema_version": 1,
     "solution": false
    }
   },
   "outputs": [],
   "source": [
    "# 10 pts\n",
    "np.testing.assert_equal(L(1.0), 1.)\n",
    "assert L(1.0) > L(1.5)\n",
    "np.testing.assert_almost_equal(L(1.618033988749895), 0.)"
   ]
  },
  {
   "cell_type": "markdown",
   "metadata": {},
   "source": [
    "**Question 3.3 (10 pts)** Define a function `dL` that is the derivative of the loss function with respect to g"
   ]
  },
  {
   "cell_type": "code",
   "execution_count": 6,
   "metadata": {
    "deletable": false,
    "nbgrader": {
     "checksum": "36752c7ba4e6e060ac93937f8299e5a1",
     "grade": false,
     "grade_id": "cell-54984d4d072fad0c",
     "locked": false,
     "schema_version": 1,
     "solution": true
    }
   },
   "outputs": [],
   "source": [
    "def dL(g):\n",
    "    a = 2*((g+1-pow(g,2))/g)\n",
    "    b= (-1/(g*g))-1\n",
    "    dLF=a*b\n",
    "    return dLF\n",
    "#raise NotImplementedError()"
   ]
  },
  {
   "cell_type": "markdown",
   "metadata": {},
   "source": [
    "You can try your function below. We know that from 1 you are getting closer to the golden ratio and after 2 your are getting away from it. Therefore, the derivative at 1 should be negative and 2 should be positive."
   ]
  },
  {
   "cell_type": "code",
   "execution_count": 7,
   "metadata": {},
   "outputs": [
    {
     "name": "stdout",
     "output_type": "stream",
     "text": [
      "dL(1.0)=-4.00\n",
      "dL(2.0)=1.25\n"
     ]
    }
   ],
   "source": [
    "print(f\"dL(1.0)={dL(1.0):.2f}\")\n",
    "print(f\"dL(2.0)={dL(2.0):.2f}\")"
   ]
  },
  {
   "cell_type": "code",
   "execution_count": 8,
   "metadata": {
    "deletable": false,
    "editable": false,
    "nbgrader": {
     "checksum": "9e0ed1e9289cdb3df2a18a3b4cd12f5f",
     "grade": true,
     "grade_id": "cell-01a6ea918c3152f5",
     "locked": true,
     "points": 10,
     "schema_version": 1,
     "solution": false
    }
   },
   "outputs": [],
   "source": [
    "# 10 points\n",
    "np.testing.assert_equal(dL(1.0), -4)\n",
    "np.testing.assert_equal(dL(2.0), 1.25)\n",
    "np.testing.assert_almost_equal(dL(1.618033988749895), 0.)"
   ]
  },
  {
   "cell_type": "markdown",
   "metadata": {},
   "source": [
    "**Question 3.4 (5 pts)** The gradient descent code below is missing some pieces. Fix it so that the final value of g is close to the golden ratio (approximately 1.61)"
   ]
  },
  {
   "cell_type": "code",
   "execution_count": 9,
   "metadata": {
    "deletable": false,
    "nbgrader": {
     "checksum": "51146d734a503377b53b64b6c57ffca0",
     "grade": false,
     "grade_id": "cell-de27dc0a1bc41ef8",
     "locked": false,
     "schema_version": 1,
     "solution": true
    }
   },
   "outputs": [
    {
     "name": "stdout",
     "output_type": "stream",
     "text": [
      "iteration 0\t\tg: 0.100\t\tL:118.810\t\tg:-2201.800\n",
      "iteration 100\t\tg: 3.888\t\tL:6.921\t\tg:5.610\n",
      "iteration 200\t\tg: 1.717\t\tL:0.018\t\tg:0.360\n",
      "iteration 300\t\tg: 1.620\t\tL:0.000\t\tg:0.008\n",
      "iteration 400\t\tg: 1.618\t\tL:0.000\t\tg:0.000\n",
      "iteration 500\t\tg: 1.618\t\tL:0.000\t\tg:0.000\n",
      "iteration 600\t\tg: 1.618\t\tL:0.000\t\tg:0.000\n",
      "iteration 700\t\tg: 1.618\t\tL:0.000\t\tg:0.000\n",
      "iteration 800\t\tg: 1.618\t\tL:0.000\t\tg:0.000\n",
      "iteration 900\t\tg: 1.618\t\tL:0.000\t\tg:0.000\n",
      "iteration 1000\t\tg: 1.618\t\tL:0.000\t\tg:0.000\n",
      "iteration 1100\t\tg: 1.618\t\tL:0.000\t\tg:0.000\n",
      "iteration 1200\t\tg: 1.618\t\tL:0.000\t\tg:0.000\n",
      "iteration 1300\t\tg: 1.618\t\tL:0.000\t\tg:0.000\n",
      "iteration 1400\t\tg: 1.618\t\tL:0.000\t\tg:0.000\n",
      "iteration 1500\t\tg: 1.618\t\tL:0.000\t\tg:0.000\n",
      "iteration 1600\t\tg: 1.618\t\tL:0.000\t\tg:0.000\n",
      "iteration 1700\t\tg: 1.618\t\tL:0.000\t\tg:0.000\n",
      "iteration 1800\t\tg: 1.618\t\tL:0.000\t\tg:0.000\n",
      "iteration 1900\t\tg: 1.618\t\tL:0.000\t\tg:0.000\n",
      "\n",
      "Final guess for the golden ratio: 1.61803398875\n"
     ]
    }
   ],
   "source": [
    "# initial guess for g\n",
    "g = 0.1\n",
    "LR = 0.01\n",
    "#raise NotImplementedError()\n",
    "for i in range(2000):\n",
    "    if i % 100 == 0:\n",
    "        print(f\"iteration {i}\\t\\tg: {g:.3f}\\t\\tL:{L(g):.3f}\\t\\tg:{dL(g):.3f}\")\n",
    "    g = g - ((LR)*dL(g))\n",
    "    #raise NotImplementedError()\n",
    "print(f\"\\nFinal guess for the golden ratio: {g:.11f}\")"
   ]
  },
  {
   "cell_type": "code",
   "execution_count": 10,
   "metadata": {
    "deletable": false,
    "editable": false,
    "nbgrader": {
     "checksum": "1dfc55dbe43f875154c51318a39f4084",
     "grade": true,
     "grade_id": "cell-f06d3dd934eacb59",
     "locked": true,
     "points": 5,
     "schema_version": 1,
     "solution": false
    }
   },
   "outputs": [],
   "source": [
    "# 5 pts\n",
    "np.testing.assert_approx_equal(g, 1.61, significant=3)"
   ]
  }
 ],
 "metadata": {
  "kernelspec": {
   "display_name": "Python 3",
   "language": "python",
   "name": "python3"
  },
  "language_info": {
   "codemirror_mode": {
    "name": "ipython",
    "version": 3
   },
   "file_extension": ".py",
   "mimetype": "text/x-python",
   "name": "python",
   "nbconvert_exporter": "python",
   "pygments_lexer": "ipython3",
   "version": "3.8.6"
  }
 },
 "nbformat": 4,
 "nbformat_minor": 5
}
