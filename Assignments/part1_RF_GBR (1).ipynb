{
 "cells": [
  {
   "cell_type": "markdown",
   "metadata": {
    "nbgrader": {
     "checksum": "4e6cefb0049d48a2f4648d752841bb06",
     "grade": false,
     "grade_id": "cell-b038e38b5e3072a9",
     "locked": true,
     "schema_version": 1,
     "solution": false
    }
   },
   "source": [
    "# IST 718: Big Data Analytics\n",
    "\n",
    "- Professor: Daniel Acuna <deacuna@syr.edu>\n",
    "\n",
    "## General instructions:\n",
    "\n",
    "- You are welcome to discuss the problems with your classmates but __you are not allowed to copy any part of your answers either from your classmates or from the internet__\n",
    "- You can put the homework files anywhere you want in your http://jupyterhub.ischool.syr.edu/ workspace but _do not change_ the file names. The TAs and the professor use these names to grade your homework.\n",
    "- Remove or comment out code that contains `raise NotImplementedError`. This is mainly to make the `assert` statement fail if nothing is submitted.\n",
    "- The tests shown in some cells (i.e., `assert` and `np.testing.` statements) are used to grade your answers. **However, the professor and TAs will use __additional__ test for your answer. Think about cases where your code should run even if it passess all the tests you see.**\n",
    "- Before downloading and submitting your work through Blackboard, remember to save and press `Validate` (or go to \n",
    "`Kernel`$\\rightarrow$`Restart and Run All`). \n",
    "- Good luck!"
   ]
  },
  {
   "cell_type": "code",
   "execution_count": 43,
   "metadata": {},
   "outputs": [],
   "source": [
    "# load these packages\n",
    "import pyspark\n",
    "from pyspark.ml import feature, classification\n",
    "from pyspark.ml import Pipeline\n",
    "from pyspark.sql import functions as fn\n",
    "import numpy as np\n",
    "from pyspark.sql import SparkSession\n",
    "from pyspark.ml import feature, regression, evaluation, Pipeline\n",
    "from pyspark.sql import functions as fn, Row\n",
    "import matplotlib.pyplot as plt\n",
    "spark = SparkSession.builder.getOrCreate()\n",
    "sc = spark.sparkContext\n",
    "import pandas as pd"
   ]
  },
  {
   "cell_type": "markdown",
   "metadata": {},
   "source": [
    "# Part 1: Random Forest and gradient boosted trees"
   ]
  },
  {
   "cell_type": "markdown",
   "metadata": {},
   "source": [
    "In these questions, we will examine the famous [Auto dataset](https://vincentarelbundock.github.io/Rdatasets/doc/ISLR/Auto.html). With this dataset, the goal is to predict the miles per gallon (`mpg`) performance based on characteristics of the car such as number of cylinders (`cylinders`), displacement between wheels (`displacement`), horsepower of the engine (`horsepower`), weight of the car (`weight`), top acceleration (`acceleration`), year of the model (`year`), and origin (`origin`)."
   ]
  },
  {
   "cell_type": "code",
   "execution_count": 44,
   "metadata": {
    "nbgrader": {
     "checksum": "d835a01d8146fbfa5aed060dae16d9fb",
     "grade": false,
     "grade_id": "cell-219523fd6f45f014",
     "locked": true,
     "schema_version": 1,
     "solution": false
    }
   },
   "outputs": [
    {
     "name": "stdout",
     "output_type": "stream",
     "text": [
      "root\n",
      " |-- mpg: double (nullable = true)\n",
      " |-- cylinders: integer (nullable = true)\n",
      " |-- displacement: double (nullable = true)\n",
      " |-- weight: integer (nullable = true)\n",
      " |-- acceleration: double (nullable = true)\n",
      " |-- year: integer (nullable = true)\n",
      " |-- origin: integer (nullable = true)\n",
      " |-- name: string (nullable = true)\n",
      " |-- horsepower: integer (nullable = true)\n",
      "\n"
     ]
    }
   ],
   "source": [
    "# read-only\n",
    "mpg_df = spark.read.csv('Auto.csv', header=True, inferSchema=True).\\\n",
    "    drop('_c0').\\\n",
    "    withColumn('horsepower2', fn.col('horsepower').cast('int')).\\\n",
    "    drop('horsepower').\\\n",
    "    withColumnRenamed('horsepower2', 'horsepower').\\\n",
    "    dropna()\n",
    "training_df, validation_df, testing_df = mpg_df.randomSplit([0.6, 0.3, 0.1], seed=0)\n",
    "mpg_df.printSchema()"
   ]
  },
  {
   "cell_type": "markdown",
   "metadata": {},
   "source": [
    "# Question 1: (10 pts)\n",
    "\n",
    "Create three pipelines that contain three different random forests that take in all features from `mpg_df` (`cylinders`, `displacement`, `horsepower`, `weight`, `acceleration`, `year`, and `origin`) to predict (`mpg`). **Set the `seed` parameter of the random forest to 0.** Fit these pipelines to the training data (`training_df`):\n",
    "\n",
    "- `pipe_rf1`: Random forest with `maxDepth=1` and `numTrees=60`\n",
    "- `pipe_rf2`: Random forest with `maxDepth=3` and `numTrees=40`\n",
    "- `pipe_rf3`: Random forest with `maxDepth=6`, `numTrees=20`"
   ]
  },
  {
   "cell_type": "code",
   "execution_count": 45,
   "metadata": {
    "deletable": false,
    "nbgrader": {
     "checksum": "2912f0aa0562283b8c2b9b8d330a9e8c",
     "grade": false,
     "grade_id": "cell-5d34f31b40350198",
     "locked": false,
     "schema_version": 1,
     "solution": true
    }
   },
   "outputs": [],
   "source": [
    "# create the fitted pipelines `pipe_rf1`, `pipe_rf2`, and `pipe_rf3` here'\n",
    "pipe_rf1 = Pipeline(stages=[feature.VectorAssembler(inputCols=['cylinders', 'displacement','horsepower','weight', 'year', 'acceleration','origin'],\n",
    "                           outputCol='features'), regression.RandomForestRegressor(labelCol = 'mpg',featuresCol= 'features',maxDepth=1, numTrees = 60, seed =0)]).fit(training_df)\n",
    "pipe_rf2 = Pipeline(stages=[feature.VectorAssembler(inputCols=['cylinders', 'displacement','horsepower','weight', 'year', 'acceleration','origin'],\n",
    "                           outputCol='features'), regression.RandomForestRegressor(labelCol = 'mpg',featuresCol= 'features',maxDepth=3, numTrees = 40, seed =0)]).fit(training_df)\n",
    "pipe_rf3 = Pipeline(stages=[feature.VectorAssembler(inputCols=['cylinders', 'displacement','horsepower','weight', 'year', 'acceleration','origin'],\n",
    "                           outputCol='features'), regression.RandomForestRegressor(labelCol = 'mpg',featuresCol= 'features',maxDepth=6, numTrees = 20, seed =0)]).fit(training_df)\n",
    "#raise NotImplementedError()"
   ]
  },
  {
   "cell_type": "code",
   "execution_count": 46,
   "metadata": {
    "deletable": false,
    "editable": false,
    "nbgrader": {
     "checksum": "ab0fe44d4fffc964b8d76f2d7cc0bc52",
     "grade": true,
     "grade_id": "cell-896bdef9bf893231",
     "locked": true,
     "points": 10,
     "schema_version": 1,
     "solution": false
    }
   },
   "outputs": [],
   "source": [
    "# tests for 10 pts\n",
    "np.testing.assert_equal(type(pipe_rf1.stages[0]), feature.VectorAssembler)\n",
    "np.testing.assert_equal(type(pipe_rf2.stages[0]), feature.VectorAssembler)\n",
    "np.testing.assert_equal(type(pipe_rf3.stages[0]), feature.VectorAssembler)\n",
    "np.testing.assert_equal(type(pipe_rf1.stages[1]), regression.RandomForestRegressionModel)\n",
    "np.testing.assert_equal(type(pipe_rf2.stages[1]), regression.RandomForestRegressionModel)\n",
    "np.testing.assert_equal(type(pipe_rf3.stages[1]), regression.RandomForestRegressionModel)\n",
    "np.testing.assert_equal(type(pipe_rf1.transform(training_df)), pyspark.sql.dataframe.DataFrame)\n",
    "np.testing.assert_equal(type(pipe_rf2.transform(training_df)), pyspark.sql.dataframe.DataFrame)\n",
    "np.testing.assert_equal(type(pipe_rf3.transform(training_df)), pyspark.sql.dataframe.DataFrame)"
   ]
  },
  {
   "cell_type": "markdown",
   "metadata": {},
   "source": [
    "# Question 2 (10 pts)\n",
    "\n",
    "Use the following evaluator to compute the $R^2$ of the models on validation data. Assign the $R^2$ of the three models to `R2_1`, `R2_2`, and `R2_3`, respectively, and the performance. Assign the best pipeline based on validation performance to a variable `best_model`"
   ]
  },
  {
   "cell_type": "code",
   "execution_count": 47,
   "metadata": {},
   "outputs": [],
   "source": [
    "evaluator = evaluation.RegressionEvaluator(labelCol='mpg', metricName='r2')\n",
    "# use it as follows:\n",
    "#   evaluator.evaluate(fitted_pipeline.transform(df)) -> R2"
   ]
  },
  {
   "cell_type": "code",
   "execution_count": 48,
   "metadata": {
    "deletable": false,
    "nbgrader": {
     "checksum": "05aa55bb93c8241e41bb5608503701cc",
     "grade": false,
     "grade_id": "cell-91cd57be67b86f2a",
     "locked": false,
     "schema_version": 1,
     "solution": true
    }
   },
   "outputs": [
    {
     "name": "stdout",
     "output_type": "stream",
     "text": [
      "0.6356640531609501\n",
      "0.8383814052081987\n",
      "0.8818386210391845\n"
     ]
    }
   ],
   "source": [
    "R2_1 = evaluator.evaluate(pipe_rf1.transform(validation_df))\n",
    "print(R2_1)\n",
    "R2_2 = evaluator.evaluate(pipe_rf2.transform(validation_df))\n",
    "print(R2_2)\n",
    "R2_3 = evaluator.evaluate(pipe_rf3.transform(validation_df))\n",
    "print(R2_3)\n",
    "best_model = pipe_rf3\n",
    "#raise NotImplementedError()"
   ]
  },
  {
   "cell_type": "code",
   "execution_count": 49,
   "metadata": {
    "deletable": false,
    "editable": false,
    "nbgrader": {
     "checksum": "f54b5ffaa1b173049912fcc6e5153295",
     "grade": true,
     "grade_id": "cell-5399ae6afb414351",
     "locked": true,
     "points": 10,
     "schema_version": 1,
     "solution": false
    }
   },
   "outputs": [],
   "source": [
    "# tests for 10 pts\n",
    "np.testing.assert_equal(type(best_model.stages[0]), feature.VectorAssembler)\n",
    "np.testing.assert_equal(type(best_model.stages[1]), regression.RandomForestRegressionModel)\n",
    "np.testing.assert_equal(type(best_model.transform(validation_df)), pyspark.sql.dataframe.DataFrame)\n",
    "np.testing.assert_array_less(R2_1, 1.)\n",
    "np.testing.assert_array_less(0.5, R2_1)\n",
    "np.testing.assert_array_less(R2_2, 1.)\n",
    "np.testing.assert_array_less(0.5, R2_2)\n",
    "np.testing.assert_array_less(R2_3, 1.)\n",
    "np.testing.assert_array_less(0.5, R2_3)"
   ]
  },
  {
   "cell_type": "markdown",
   "metadata": {},
   "source": [
    "# Question 3: 5 pts\n",
    "\n",
    "Compute the $R^2$ of the model on testing data, print it, and assign it to variable `R2_best`"
   ]
  },
  {
   "cell_type": "code",
   "execution_count": 50,
   "metadata": {
    "deletable": false,
    "nbgrader": {
     "checksum": "d024cc767cf9091d250f11c6c26fc729",
     "grade": false,
     "grade_id": "cell-86f5f0eaa917209f",
     "locked": false,
     "schema_version": 1,
     "solution": true
    }
   },
   "outputs": [
    {
     "data": {
      "text/plain": [
       "0.7871659333265015"
      ]
     },
     "execution_count": 50,
     "metadata": {},
     "output_type": "execute_result"
    }
   ],
   "source": [
    "# create AUC_best below\n",
    "R2_best = evaluator.evaluate(pipe_rf3.transform(testing_df))\n",
    "R2_best\n",
    "#raise NotImplementedError()"
   ]
  },
  {
   "cell_type": "code",
   "execution_count": 51,
   "metadata": {
    "deletable": false,
    "editable": false,
    "nbgrader": {
     "checksum": "be06b9c3fd35043998cada2e4c82af63",
     "grade": true,
     "grade_id": "cell-bd2f7d28b44ac691",
     "locked": true,
     "points": 5,
     "schema_version": 1,
     "solution": false
    }
   },
   "outputs": [],
   "source": [
    "# tests for 5 pts\n",
    "np.testing.assert_array_less(R2_best, 1.)\n",
    "np.testing.assert_array_less(0.5, R2_best)"
   ]
  },
  {
   "cell_type": "markdown",
   "metadata": {},
   "source": [
    "# Question 4: 5 pts\n",
    "\n",
    "Using the parameters of the best model, create a new pipeline called `final_model` and fit it to the entire data (`mpg_df`)"
   ]
  },
  {
   "cell_type": "code",
   "execution_count": 52,
   "metadata": {
    "deletable": false,
    "nbgrader": {
     "checksum": "f1e9753be63f387d37db812d4102e26c",
     "grade": false,
     "grade_id": "cell-2574a5ca8f12ce94",
     "locked": false,
     "schema_version": 1,
     "solution": true
    }
   },
   "outputs": [],
   "source": [
    "# create the fitted pipeline `final_model` here\n",
    "final_model = Pipeline(stages=[feature.VectorAssembler(inputCols=['cylinders', 'displacement','horsepower','weight', 'year', 'acceleration','origin'],\n",
    "                           outputCol='features'), regression.RandomForestRegressor(labelCol = 'mpg',featuresCol= 'features',maxDepth=6, numTrees = 20, seed =0)]).fit(mpg_df)\n",
    "#raise NotImplementedError()"
   ]
  },
  {
   "cell_type": "code",
   "execution_count": 53,
   "metadata": {
    "deletable": false,
    "editable": false,
    "nbgrader": {
     "checksum": "10209c86da7aca0f6d99708efb051f44",
     "grade": true,
     "grade_id": "cell-bcce92747a0d2ba5",
     "locked": true,
     "points": 5,
     "schema_version": 1,
     "solution": false
    }
   },
   "outputs": [],
   "source": [
    "# tests for 10 pts\n",
    "np.testing.assert_equal(type(final_model.stages[0]), feature.VectorAssembler)\n",
    "np.testing.assert_equal(type(final_model.stages[1]), regression.RandomForestRegressionModel)\n",
    "np.testing.assert_equal(type(final_model.transform(mpg_df)), pyspark.sql.dataframe.DataFrame)"
   ]
  },
  {
   "cell_type": "markdown",
   "metadata": {},
   "source": [
    "# Question 5: 10 pts\n",
    "\n",
    "Create a pandas dataframe `feature_importance` with the columns `feature` and `importance` which contains the names of the features (`cylinder`, `displacement`, etc.) and their feature importances as determined by the random forest of the final model. Sort the dataframe by `importance` in descending order."
   ]
  },
  {
   "cell_type": "code",
   "execution_count": 54,
   "metadata": {
    "deletable": false,
    "nbgrader": {
     "checksum": "89dc0c52dff983147af006f48049dd3e",
     "grade": false,
     "grade_id": "cell-5b666b921af5a375",
     "locked": false,
     "schema_version": 1,
     "solution": true
    }
   },
   "outputs": [],
   "source": [
    "# create feature_importance below\n",
    "feature_importance = pd.DataFrame(list(zip(['cylinders', 'displacement','horsepower','weight', 'year', 'acceleration','origin'], final_model.stages[-1].featureImportances.toArray())),\n",
    "            columns = ['feature', 'importance']).sort_values('importance')\n",
    "#raise NotImplementedError()"
   ]
  },
  {
   "cell_type": "code",
   "execution_count": 55,
   "metadata": {},
   "outputs": [
    {
     "data": {
      "text/html": [
       "<div>\n",
       "<style scoped>\n",
       "    .dataframe tbody tr th:only-of-type {\n",
       "        vertical-align: middle;\n",
       "    }\n",
       "\n",
       "    .dataframe tbody tr th {\n",
       "        vertical-align: top;\n",
       "    }\n",
       "\n",
       "    .dataframe thead th {\n",
       "        text-align: right;\n",
       "    }\n",
       "</style>\n",
       "<table border=\"1\" class=\"dataframe\">\n",
       "  <thead>\n",
       "    <tr style=\"text-align: right;\">\n",
       "      <th></th>\n",
       "      <th>feature</th>\n",
       "      <th>importance</th>\n",
       "    </tr>\n",
       "  </thead>\n",
       "  <tbody>\n",
       "    <tr>\n",
       "      <th>6</th>\n",
       "      <td>origin</td>\n",
       "      <td>0.006946</td>\n",
       "    </tr>\n",
       "    <tr>\n",
       "      <th>5</th>\n",
       "      <td>acceleration</td>\n",
       "      <td>0.030344</td>\n",
       "    </tr>\n",
       "    <tr>\n",
       "      <th>0</th>\n",
       "      <td>cylinders</td>\n",
       "      <td>0.135399</td>\n",
       "    </tr>\n",
       "    <tr>\n",
       "      <th>4</th>\n",
       "      <td>year</td>\n",
       "      <td>0.140149</td>\n",
       "    </tr>\n",
       "    <tr>\n",
       "      <th>3</th>\n",
       "      <td>weight</td>\n",
       "      <td>0.149193</td>\n",
       "    </tr>\n",
       "    <tr>\n",
       "      <th>2</th>\n",
       "      <td>horsepower</td>\n",
       "      <td>0.165740</td>\n",
       "    </tr>\n",
       "    <tr>\n",
       "      <th>1</th>\n",
       "      <td>displacement</td>\n",
       "      <td>0.372230</td>\n",
       "    </tr>\n",
       "  </tbody>\n",
       "</table>\n",
       "</div>"
      ],
      "text/plain": [
       "        feature  importance\n",
       "6        origin    0.006946\n",
       "5  acceleration    0.030344\n",
       "0     cylinders    0.135399\n",
       "4          year    0.140149\n",
       "3        weight    0.149193\n",
       "2    horsepower    0.165740\n",
       "1  displacement    0.372230"
      ]
     },
     "execution_count": 55,
     "metadata": {},
     "output_type": "execute_result"
    }
   ],
   "source": [
    "# display it here\n",
    "feature_importance"
   ]
  },
  {
   "cell_type": "code",
   "execution_count": 56,
   "metadata": {
    "deletable": false,
    "editable": false,
    "nbgrader": {
     "checksum": "a174ad97cc20a8fe9385ded1a56597f7",
     "grade": true,
     "grade_id": "cell-de7873ad0b54f277",
     "locked": true,
     "points": 10,
     "schema_version": 1,
     "solution": false
    }
   },
   "outputs": [],
   "source": [
    "# tests for 10 pts\n",
    "assert type(feature_importance) == pd.core.frame.DataFrame\n",
    "np.testing.assert_array_equal(list(feature_importance.columns), ['feature', 'importance'])\n",
    "np.testing.assert_array_equal(list(feature_importance.columns), ['feature', 'importance'])"
   ]
  },
  {
   "cell_type": "markdown",
   "metadata": {},
   "source": [
    "**(5 pts)** Comment below on the importance that random forest has given to each feature. Are they reasonable? Do they tell you anything valuable about the mpg dataset? Answer in the cell below"
   ]
  },
  {
   "cell_type": "markdown",
   "metadata": {
    "deletable": false,
    "nbgrader": {
     "checksum": "b2c41f651112504fa5bc52db64459564",
     "grade": true,
     "grade_id": "cell-cd1eb09a9ba5aaa9",
     "locked": false,
     "points": 5,
     "schema_version": 1,
     "solution": true
    }
   },
   "source": [
    "The feature importance that is assigned to each feature by random forest is reasonable. From the result, we can see that the displacement, horsepower and weight are affecting the mpg more whereas, origin and acceleration are least affecting."
   ]
  },
  {
   "cell_type": "markdown",
   "metadata": {},
   "source": [
    "# Question 6:  5 pts.\n",
    "\n",
    "Pick any of the trees from the final model and assign its `toDebugString` property to a variable `example_tree`. Print this variable and add comments to the cell describing how you think this particular tree is fitting the data"
   ]
  },
  {
   "cell_type": "code",
   "execution_count": 57,
   "metadata": {
    "deletable": false,
    "nbgrader": {
     "checksum": "b212587e3d2f28ad35f04e2a6149e762",
     "grade": false,
     "grade_id": "cell-7476baa7ceb72c05",
     "locked": false,
     "schema_version": 1,
     "solution": true
    }
   },
   "outputs": [
    {
     "name": "stdout",
     "output_type": "stream",
     "text": [
      "DecisionTreeRegressionModel: uid=dtr_c1b6fce1d827, depth=6, numNodes=101, numFeatures=7\n",
      "  If (feature 1 <= 159.5)\n",
      "   If (feature 4 <= 79.5)\n",
      "    If (feature 2 <= 71.5)\n",
      "     If (feature 5 <= 19.55)\n",
      "      If (feature 5 <= 17.05)\n",
      "       If (feature 3 <= 2188.5)\n",
      "        Predict: 30.7375\n",
      "       Else (feature 3 > 2188.5)\n",
      "        Predict: 24.99999999999997\n",
      "      Else (feature 5 > 17.05)\n",
      "       If (feature 5 <= 18.75)\n",
      "        Predict: 35.971428571428575\n",
      "       Else (feature 5 > 18.75)\n",
      "        Predict: 29.933333333333337\n",
      "     Else (feature 5 > 19.55)\n",
      "      If (feature 3 <= 1982.5)\n",
      "       Predict: 26.0\n",
      "      Else (feature 3 > 1982.5)\n",
      "       Predict: 24.5\n",
      "    Else (feature 2 > 71.5)\n",
      "     If (feature 1 <= 119.5)\n",
      "      If (feature 5 <= 13.75)\n",
      "       If (feature 4 <= 73.5)\n",
      "        Predict: 18.0\n",
      "       Else (feature 4 > 73.5)\n",
      "        Predict: 21.5\n",
      "      Else (feature 5 > 13.75)\n",
      "       If (feature 5 <= 14.850000000000001)\n",
      "        Predict: 27.433333333333334\n",
      "       Else (feature 5 > 14.850000000000001)\n",
      "        Predict: 25.942857142857143\n",
      "     Else (feature 1 > 119.5)\n",
      "      If (feature 2 <= 97.5)\n",
      "       If (feature 5 <= 13.45)\n",
      "        Predict: 33.5\n",
      "       Else (feature 5 > 13.45)\n",
      "        Predict: 23.1875\n",
      "      Else (feature 2 > 97.5)\n",
      "       If (feature 3 <= 2803.5)\n",
      "        Predict: 21.916666666666668\n",
      "       Else (feature 3 > 2803.5)\n",
      "        Predict: 19.450000000000003\n",
      "   Else (feature 4 > 79.5)\n",
      "    If (feature 3 <= 2520.0)\n",
      "     If (feature 0 <= 3.5)\n",
      "      Predict: 23.7\n",
      "     Else (feature 0 > 3.5)\n",
      "      If (feature 3 <= 2188.5)\n",
      "       If (feature 2 <= 65.5)\n",
      "        Predict: 38.330769230769235\n",
      "       Else (feature 2 > 65.5)\n",
      "        Predict: 35.70454545454545\n",
      "      Else (feature 3 > 2188.5)\n",
      "       If (feature 4 <= 80.5)\n",
      "        Predict: 36.5\n",
      "       Else (feature 4 > 80.5)\n",
      "        Predict: 33.154545454545456\n",
      "    Else (feature 3 > 2520.0)\n",
      "     If (feature 1 <= 137.5)\n",
      "      If (feature 2 <= 90.5)\n",
      "       If (feature 5 <= 17.55)\n",
      "        Predict: 30.474999999999998\n",
      "       Else (feature 5 > 17.55)\n",
      "        Predict: 27.499999999999993\n",
      "      Else (feature 2 > 90.5)\n",
      "       Predict: 32.900000000000006\n",
      "     Else (feature 1 > 137.5)\n",
      "      If (feature 2 <= 82.5)\n",
      "       If (feature 2 <= 78.5)\n",
      "        Predict: 30.7\n",
      "       Else (feature 2 > 78.5)\n",
      "        Predict: 28.1\n",
      "      Else (feature 2 > 82.5)\n",
      "       If (feature 3 <= 2803.5)\n",
      "        Predict: 26.919999999999998\n",
      "       Else (feature 3 > 2803.5)\n",
      "        Predict: 24.957142857142863\n",
      "  Else (feature 1 > 159.5)\n",
      "   If (feature 2 <= 143.5)\n",
      "    If (feature 4 <= 79.5)\n",
      "     If (feature 2 <= 95.5)\n",
      "      If (feature 2 <= 78.5)\n",
      "       Predict: 16.0\n",
      "      Else (feature 2 > 78.5)\n",
      "       If (feature 5 <= 17.55)\n",
      "        Predict: 19.816666666666666\n",
      "       Else (feature 5 > 17.55)\n",
      "        Predict: 22.52\n",
      "     Else (feature 2 > 95.5)\n",
      "      If (feature 4 <= 75.5)\n",
      "       If (feature 0 <= 7.0)\n",
      "        Predict: 16.772727272727273\n",
      "       Else (feature 0 > 7.0)\n",
      "        Predict: 14.333333333333334\n",
      "      Else (feature 4 > 75.5)\n",
      "       If (feature 2 <= 127.0)\n",
      "        Predict: 19.685000000000002\n",
      "       Else (feature 2 > 127.0)\n",
      "        Predict: 17.741666666666664\n",
      "    Else (feature 4 > 79.5)\n",
      "     If (feature 4 <= 81.5)\n",
      "      If (feature 2 <= 90.5)\n",
      "       If (feature 3 <= 3412.5)\n",
      "        Predict: 19.65\n",
      "       Else (feature 3 > 3412.5)\n",
      "        Predict: 17.599999999999994\n",
      "      Else (feature 2 > 90.5)\n",
      "       If (feature 2 <= 127.0)\n",
      "        Predict: 24.766666666666666\n",
      "       Else (feature 2 > 127.0)\n",
      "        Predict: 32.7\n",
      "     Else (feature 4 > 81.5)\n",
      "      If (feature 3 <= 2963.5)\n",
      "       Predict: 25.0\n",
      "      Else (feature 3 > 2963.5)\n",
      "       Predict: 38.0\n",
      "   Else (feature 2 > 143.5)\n",
      "    If (feature 2 <= 195.5)\n",
      "     If (feature 4 <= 76.5)\n",
      "      If (feature 3 <= 4432.5)\n",
      "       If (feature 3 <= 3732.5)\n",
      "        Predict: 14.5\n",
      "       Else (feature 3 > 3732.5)\n",
      "        Predict: 13.732142857142858\n",
      "      Else (feature 3 > 4432.5)\n",
      "       If (feature 5 <= 14.6)\n",
      "        Predict: 13.2\n",
      "       Else (feature 5 > 14.6)\n",
      "        Predict: 9.0\n",
      "     Else (feature 4 > 76.5)\n",
      "      If (feature 3 <= 4057.5)\n",
      "       If (feature 5 <= 12.55)\n",
      "        Predict: 17.5\n",
      "       Else (feature 5 > 12.55)\n",
      "        Predict: 18.1\n",
      "      Else (feature 3 > 4057.5)\n",
      "       If (feature 2 <= 149.5)\n",
      "        Predict: 15.75\n",
      "       Else (feature 2 > 149.5)\n",
      "        Predict: 15.666666666666666\n",
      "    Else (feature 2 > 195.5)\n",
      "     If (feature 5 <= 10.75)\n",
      "      Predict: 14.0\n",
      "     Else (feature 5 > 10.75)\n",
      "      If (feature 5 <= 13.75)\n",
      "       If (feature 3 <= 4655.5)\n",
      "        Predict: 11.0\n",
      "       Else (feature 3 > 4655.5)\n",
      "        Predict: 12.0\n",
      "      Else (feature 5 > 13.75)\n",
      "       Predict: 10.0\n",
      "\n"
     ]
    }
   ],
   "source": [
    "# create a variable example_tree with the toDebugString property of a tree from final_model.\n",
    "# print this string and comment in this same cell about the branches that this tree fit\n",
    "example_tree = final_model.stages[-1].trees[0].toDebugString\n",
    "print(example_tree) \n",
    "# Every feature is assigned a threshold value,with change in threshold values prediction values of mpg are changing. \n",
    "# i.e., whenever the value of each feature is increasing or decreasing, the mpg value is varying\n",
    "#raise NotImplementedError()"
   ]
  },
  {
   "cell_type": "code",
   "execution_count": 58,
   "metadata": {
    "deletable": false,
    "editable": false,
    "nbgrader": {
     "checksum": "9f35c194d03338e1a9e24d771fb28c2e",
     "grade": true,
     "grade_id": "cell-80c89e10a60f6ce2",
     "locked": true,
     "points": 5,
     "schema_version": 1,
     "solution": false
    }
   },
   "outputs": [],
   "source": [
    "# tests for 5 points\n",
    "assert type(example_tree) == str\n",
    "assert 'DecisionTreeRegressionModel' in example_tree\n",
    "assert 'feature 0' in example_tree\n",
    "assert 'If' in example_tree\n",
    "assert 'Else' in example_tree\n",
    "assert 'Predict' in example_tree"
   ]
  },
  {
   "cell_type": "markdown",
   "metadata": {},
   "source": [
    "# **Question 7 (5 pts)**\n",
    "\n",
    "Gradient boosted trees are becoming increasingly popular for competitions. There is a high-performance implementation, [xgboost](https://en.wikipedia.org/wiki/XGBoost), that is particularly popular. Compare gradient boosted regression to the best model found with random forest in Question 3. Use the validation set. For GBR, use all the default parameters except make `seed=0`. Assign the pipeline and the $R^2$ of the model to `gbr_pipe` and `R2_gbr`, respectively. Does it have an amazing or dissapointing $R^2$? Comment."
   ]
  },
  {
   "cell_type": "code",
   "execution_count": 59,
   "metadata": {
    "deletable": false,
    "nbgrader": {
     "checksum": "d399ce658c943b8f572a428367c1725e",
     "grade": false,
     "grade_id": "cell-edab7ea019e8b267",
     "locked": false,
     "schema_version": 1,
     "solution": true
    }
   },
   "outputs": [],
   "source": [
    "gbr_pipe = Pipeline(stages=[feature.VectorAssembler(inputCols=['cylinders', 'displacement','horsepower','weight', 'year', 'acceleration','origin'],\n",
    "                           outputCol='features'), regression.GBTRegressor(labelCol = 'mpg',featuresCol= 'features', seed =0)]).fit(training_df)\n",
    "R2_gbr = evaluator.evaluate(gbr_pipe.transform(validation_df))\n",
    "#raise NotImplementedError()"
   ]
  },
  {
   "cell_type": "code",
   "execution_count": 60,
   "metadata": {},
   "outputs": [
    {
     "name": "stdout",
     "output_type": "stream",
     "text": [
      "Performance of best RF:  0.8818386210391845\n",
      "Performance of GBR:  0.8408850917598597\n"
     ]
    }
   ],
   "source": [
    "# test your models here\n",
    "print(\"Performance of best RF: \", evaluator.evaluate(best_model.transform(validation_df)))\n",
    "print(\"Performance of GBR: \", R2_gbr)"
   ]
  },
  {
   "cell_type": "markdown",
   "metadata": {},
   "source": [
    "R squared value os higher for RF than GBR. Hence, it can be concluded that the Performance is better for the Random Forest Regression with max_depth \"6\" and Numtrees \"20\" compared to the performance of GBR (Gradient Boosting Regression) with default parameters. "
   ]
  },
  {
   "cell_type": "code",
   "execution_count": 61,
   "metadata": {
    "deletable": false,
    "editable": false,
    "nbgrader": {
     "checksum": "7636ddf552f508aaa5952350f9b0a210",
     "grade": true,
     "grade_id": "cell-f7b1ed961851c406",
     "locked": true,
     "points": 5,
     "schema_version": 1,
     "solution": false
    }
   },
   "outputs": [],
   "source": [
    "# tests for 5 pts\n",
    "np.testing.assert_equal(type(gbr_pipe.stages[0]), feature.VectorAssembler)\n",
    "np.testing.assert_equal(type(gbr_pipe.stages[1]), regression.GBTRegressionModel)\n",
    "np.testing.assert_equal(type(gbr_pipe.transform(validation_df)), pyspark.sql.dataframe.DataFrame)\n",
    "np.testing.assert_array_less(R2_gbr, 1.)\n",
    "np.testing.assert_array_less(0.5, R2_gbr)"
   ]
  }
 ],
 "metadata": {
  "kernelspec": {
   "display_name": "Python 3",
   "language": "python",
   "name": "python3"
  },
  "language_info": {
   "codemirror_mode": {
    "name": "ipython",
    "version": 3
   },
   "file_extension": ".py",
   "mimetype": "text/x-python",
   "name": "python",
   "nbconvert_exporter": "python",
   "pygments_lexer": "ipython3",
   "version": "3.8.6"
  }
 },
 "nbformat": 4,
 "nbformat_minor": 2
}
